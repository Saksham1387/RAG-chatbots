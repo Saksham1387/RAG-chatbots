{
 "cells": [
  {
   "cell_type": "code",
   "execution_count": 1,
   "metadata": {},
   "outputs": [],
   "source": [
    "from langchain_core.runnables import (\n",
    "    RunnableBranch,\n",
    "    RunnableLambda,\n",
    "    RunnableParallel,\n",
    "    RunnablePassthrough,\n",
    ")\n",
    "from langchain_core.prompts import ChatPromptTemplate\n",
    "from langchain_core.prompts.prompt import PromptTemplate\n",
    "from typing import Tuple, List, Optional\n",
    "from langchain_core.messages import AIMessage, HumanMessage\n",
    "from langchain_core.output_parsers import StrOutputParser\n",
    "from langchain_core.runnables import ConfigurableField\n",
    "from yfiles_jupyter_graphs import GraphWidget\n",
    "from neo4j import GraphDatabase\n",
    "import os\n",
    "from langchain_community.vectorstores import Neo4jVector\n",
    "from langchain_community.graphs import Neo4jGraph\n",
    "from langchain_community.document_loaders import DirectoryLoader\n",
    "from langchain_community.embeddings import OllamaEmbeddings\n",
    "from langchain_community.vectorstores import FAISS\n",
    "from langchain.text_splitter import TokenTextSplitter\n",
    "from langchain_openai import ChatOpenAI\n",
    "from langchain_experimental.graph_transformers import LLMGraphTransformer\n",
    "from langchain_community.llms import Ollama"
   ]
  },
  {
   "cell_type": "code",
   "execution_count": 2,
   "metadata": {},
   "outputs": [],
   "source": [
    "from dotenv import load_dotenv\n",
    "import os\n",
    "\n",
    "# Load environment variables from .env file\n",
    "load_dotenv()\n",
    "\n",
    "\n",
    "OPENAI_API_KEY=os.getenv('OPENAI_API_KEY')\n",
    "NEO4J_URI=os.getenv('NEO4J_URI')\n",
    "NEO4J_USERNAME=os.getenv('NEO4J_USERNAME')\n",
    "NEO4J_PASSWORD=os.getenv('NEO4J_PASSWORD')\n",
    "os.environ[\"OPENAI_API_KEY\"] = OPENAI_API_KEY\n",
    "os.environ[\"NEO4J_URI\"] = NEO4J_URI\n",
    "os.environ[\"NEO4J_USERNAME\"] = NEO4J_USERNAME\n",
    "os.environ[\"NEO4J_PASSWORD\"] = NEO4J_PASSWORD"
   ]
  },
  {
   "cell_type": "code",
   "execution_count": 3,
   "metadata": {},
   "outputs": [],
   "source": [
    "graph = Neo4jGraph()"
   ]
  },
  {
   "cell_type": "code",
   "execution_count": 4,
   "metadata": {},
   "outputs": [
    {
     "name": "stderr",
     "output_type": "stream",
     "text": [
      "100%|██████████| 1/1 [00:02<00:00,  2.08s/it]"
     ]
    },
    {
     "name": "stdout",
     "output_type": "stream",
     "text": [
      "[Document(page_content='Title: What are competed planetary missions? Link: https://www.planetary.org/articles/what-are-competed-planetary-missions Detailed Text: Casey Dreier•May 30, 2024 When The Planetary Society advocates for a balanced portfolio of planetary exploration missions at NASA, we frequently mention the importance ofcompetedmissions as part of that balance. In essence, NASA releases funding opportunities every few years for new planetary missions, and various scientific teams submit ideas to compete for that mission funding; hence the moniker, competed missions. Within NASA’s robotic planetary exploration program, there are two types of competed mission classes: Discovery and New Frontiers. Missions of these types are distinguished by their leadership structure — with a single scientist in charge of delivering the spacecraft — and the competitive process by which the project is chosen. Competed missions historically cost less and fly more frequently than NASA’s high-profile flagship missions, which generally cost upwards of $2 billion and fly once per decade. NASA attempts to fly five Discovery-class missions and two New Frontiers missions every decade (congressional budgets permitting), with a $500 million cost cap on Discovery and a $900 million cost cap on New Frontiers. These cost caps are designed to limit NASA’s exposure to cost overruns, enabling more missions and allowing for more novel, higher-risk designs.\\n\\nAlso distinct is the political authority granted to NASA to pursue competed missions. Flagship missions represent the agency’s top scientific priorities, are assigned to a primary NASA center for implementation, and then must secure a funding commitment from the White House’s budgeting office and obtain a “new start” approval by Congress. Only then can NASA begin making long-term contracts and commitments necessary to build a large and complex spacecraft. In contrast, Discovery and New Frontiers missions are pre-authorized by Congress; NASA can select missions within those classes as frequently as funding allows. In theory, this provides more rapid development opportunities. Competed planetary missions are science-focused and scientist-led. This is again distinct from flagship-class missions, which, while science-focused, are led by an existing NASA center. Competed missions are led by Principal Investigators (PIs) who assemble both a science and engineering team to submit a detailed proposal to the space agency for the type of mission they’d like to pursue. The scientific payload and team are proposed wholistically by the very individuals who will then implement the mission. This elevates scientific leadership to the top of the decision-making process and generally leads to a more copacetic (albeit smaller) science team.\\n\\nThe planetary sciencedecadal surveyprovides guidelines for the launch rates of competed missions and for science investigations for the more expensive New Frontiers missions. Discovery missions consider any high-priority scientific question within the Solar System. The lower costs, higher flight rate, and empowered scientific management of competed missions provide value back to NASA, the scientific community, and the public. They provide opportunities for scientists to assemble and manage tightly focused investigations and to gain a better understanding of the spacecraft development process. Delays and overruns are less serious than similar problems in flagship missions due to the smaller overall project budget, protecting the space agency’s other projects and the taxpayer. It also enables a more dynamic, responsive space agency that can marshal new missions to address new discoveries or scout out new locations in advance of larger missions in the future.\\n\\nExamples of Discovery missions are MESSENGER, Mars Pathfinder, andPsyche; New Frontiers missions of note areJuno, OSIRIS-REx, and New Horizons. Flagship missions are much larger, such as thePerseverancerover andEuropa Clipper. By ensuring a regular cadence of competed missions, NASA supports an independent scientific community, novel approaches to scientific exploration, and a broader swath of the aerospace industry and workforce by ensuring regular work to build and maintain expertise. Read More: NASA’S Discovery Program: The First Twenty Years of Competitive Planetary Exploration(NASA History Office e-book, 2024) Large Strategic NASA Science Missions: Science Value and Role in a Balanced Portfolio(National Academies report, 2017) Transforming solar system exploration: The origins of the Discovery Program, 1989 - 1993(refereed journal article, 2013)\\n\\n==================================================\\n\\nTitle: How to see the nova (â\\x80\\x9cnew starâ\\x80\\x9d) in Corona Borealis Link: https://www.planetary.org/articles/how-to-see-the-nova-new-star-in-corona-borealis Detailed Text: Asa Stahl•May 29, 2024 Sometime between now and the end of the year, a giant stellar explosion is likely going to shine in the night sky. This blast, called a nova, is expected to be so bright that it will be visible even from major cities. The explosion won’t pose any danger to Earth — it’s too far away — but over a span of just days, the nova will unleash tens of thousands of times more energy than the Sun puts out over an entire year. The outburst will come from the star system T Corona Borealis, which puts on a similar show every 80 years or so. Astronomers currently predict about a 70% chance that T Corona Borealis will go nova by September, and a 95% chance that it’ll go off by the end of the year. The nova will likely be the brightest one seen on Earth since 1975. A nova is a runaway thermonuclear explosion that is, in essence, not too different from a gigantic hydrogen bomb. But instead of blasting out of a metal shell, a nova’s explosion happens on the surface of a white dwarf star. White dwarfs are the smoldering remains of stars like the Sun. Right now, the nuclear fusion of hydrogen in the Sun’s core produces energy that pushes back against gravity and keeps the Sun from falling in on itself. Eventually, though, the Sun will run out of fuel for fusion and collapse until it’s about the size of Earth.\\n\\nAt that point, the Sun won’t be able to get any denser without forcing its electrons past a limit set by quantum mechanics. When a star enters this stable, ultra-dense phase, it becomes a white dwarf. On its own, a white dwarf won’t make a nova. It has to be in a binary system, meaning it and another star orbit one another. If the other star still has plenty of hydrogen, and if it is not too far from the white dwarf, then the white dwarf’s gravity will skim off some of the other star’s outer layers. Over time, this fuel can accumulate on the surface of the white dwarf and heat up. When the fuel gets hot enough, it will ignite in a rapid chain reaction, releasing a giant burst of radiation and throwing off ejecta at thousands of kilometers per hour. Though this explosion is very energetic, it doesn’t destroy either star. The same pattern of build-up and burst can repeat again and again. T Corona Borealis, in particular, repeats its nova cycle roughly every 80 years. The system consists of a white dwarf and a red giant star located about 800 light-years from Earth. A supernova is a much bigger stellar explosion that does not happen more than once to the same star. Some supernovae are triggered when a star runs out of fuel for nuclear fusion and collapses, while others are caused by white dwarfs that accumulate enough mass.\\n\\nRegardless of the exact path, the source of a supernova has to be so massive that its gravity overcomes the quantum mechanical pressure that would keep a white dwarf stable. And while a nova leaves its star system intact, a supernova results in a neutron star or black hole, or completely destroys whatever object triggered it. Supernovae are also rarer than novae. The last supernova to happen in the Milky Way was in 1604, while the last nova was in 2022, though it was too dim to see with the naked eye. Some novae repeat relatively often, once every hundred years or more. If people observed these “recurrent novae” when they happened in the past, scientists can compare how light from the system changed in the lead-up to each outburst and look for similar behavior today. People have recorded novae from T Corona Borealis four times in the past. In 1217, an abbot in Germany wrote about it as a “wonderful sign.” In 1787, the nova was spotted again by an English astronomer. And in 1866 and 1946, scientists around the world took detailed measurements of how the system’s brightness changed over time. In 2015, astronomers noticed that T Corona Borealis was entering the same sort of phase that preceded its 1946 outburst by eight years. They initially predicted the system would erupt in the mid-2020s. Over time, researchers have narrowed the timing down to about a 70% chance of an outburst by September 2024 and a 95% chance of it by the end of the year.\\n\\nWhen it goes nova, T Corona Borealis should be visible to the naked eye at night from even relatively bright skies, like those in the middle of urban areas. It will dim significantly within days, though, so the best time to try to spot it will be as soon as the news breaks. At that point, the nova will be about as bright as Polaris, the north star, which is among the top 50 brightest stars in the entire night sky. As the nova dims to the point where it’s no longer possible to see with the unaided eye, it may still be possible to view through binoculars or other special equipment. The nova will appear in the constellation Corona Borealis, or “northern crown,” which is located between the Hercules and Boötes constellations. This part of the sky should be visible from most places on Earth except for the far south, close to Antarctica. The nova won’t look like an explosion, but like a new star that wasn’t there before. So, to fully appreciate this celestial event, it’s worth looking up and noting that you can’t see the system before it goes nova.\\n\\n==================================================\\n\\nTitle: Mars rovers, helicopters, and sunsets Link: https://www.planetary.org/the-downlink/mars-rovers-helicopters-and-sunsets Detailed Text:\\n\\n==================================================\\n\\nTitle: Earthâ\\x80\\x99s quasi-moons, minimoons, and ghost moons Link: https://www.planetary.org/articles/the-quasi-moons-of-earth Detailed Text: Asa Stahl•May 21, 2024 Earth hosts seven known quasi-moons, an unknown number of minimoons, and maybe, sometimes, two ghost moons. Though none of these pseudo-moons are as big or influential as Earth’s one true natural satellite —the Moon— they are still valuable for science and exploration. Quasi- and minimoons offer promising targets for future space missions, a window into our planet’s neighborhood, and a sampling of the sort of asteroids that could potentially hit Earth. Earth’s quasi-moons get their name because, from a certain vantage point, they appear to act like moons. But from a wider perspective, it becomes obvious that they aren’t actually moons at all — they’reasteroids. It’s like a gravitational sleight of hand. From our point of view onEarth, each of these asteroids looks like it is orbiting our planet, yet they actually orbit the Sun. In fact, the quasi-moons of Earth essentially share its orbit. They follow almost the exact same path as we do around the Sun. As these asteroids trace their orbits, they are slightly affected by Earth’s gravity, too. They don’t circle Earth like satellites, but their orbits do fall into a kind of lockstep with our planet that keeps them close by. A quasi-moon sometimes drifts ahead of Earth and sometimes trails behind it as both go around the Sun.\\n\\nFrom our vantage point, it ends up looking like the quasi-moon is orbiting us instead of our star. This configuration is called quasi-satellite motion, and it is one of several ways that celestial bodies can share an orbit with Earth. There are also “trojan” orbits, where an object traces loops around a point that stays consistently  ahead of or behind Earth as it goes around the Sun. And there are “horseshoe” orbits, where an object switches between leading Earth in its orbit and trailing it, but does not stay close to Earth like in quasi-satellite motion. All of Earth’s known quasi-moons are temporary. After hundreds or thousands of years, most will transition to trojan or horseshoe orbits. At the same time, some asteroids that are currently in one of these other kinds of shared orbits will eventually transition to become quasi-moons. A minimoon is an object that truly orbits a world, but only temporarily. Earth’s minimoons last for less than a year on average. They are very small and hard to detect: only four minimoons of Earth have ever been discovered, and none are still orbiting Earth. Some may actually have beenspace debris. The Gaia spacecraft was once mistaken for a minimoon, and so were rocket stages from the Chang’e 2 and Lunar Prospector missions. Ghost moons — if they really exist — are swirling clouds of dust that share Earth’s orbit, staying ahead of or behind Earth as it goes around the Sun.\\n\\nOfficially called “Kordylewski clouds,” ghost moons were first reported in the 1960s and were only tentatively confirmed in 2018. There is still no broad consensus on whether these clouds exist. It’s possible they appear and disappear depending on the influence of the Sun and planets. Quasi-moons can orbit other planets, moons, or even asteroids. Venus, Jupiter, Saturn, Neptune, Pluto, and the asteroid Ceres all host at least one known quasi-moon. The first quasi-moon ever discovered,Zoozve, goes around Venus. Itgained its unusual namein a quirk of history, when an artist misread its original identifier 2002 VE68. Scientists used to think certain quasi-moons had a significant chance of impacting Earth, but thankfully, that’s no longer the case. Since Earth’s current quasi-moons are around 10–300 meters (30–1000 feet) in size, some are large enough to cause massive damage to a regionif they were to hit us. But there is no risk of a known quasi-moon colliding with Earth in the foreseeable future. The orbits of quasi-moons are predictable enough that astronomers should be able to see an impact coming well before it happens. As for minimoons, it’s not rare for them to hit Earth. About 1% of all minimoons eventually do, but most are small, so they burn up in our planet’s atmosphere. A very dangerously large minimoon, say 1 kilometer (0.6 mi) in diameter, is expected to hit Earth once every billion years at most.\\n\\nQuasi-moons and minimoons are pieces of our neighborhood in space, and they carry information about where they come from. They might originate in the main asteroid belt, from impacts on the Moon, or from the break-up of larger objects on similar orbits — scientists don’t know for sure. Answering that question, and finding out what these almost-moons are made of, can help researchers learn more about asteroids andhow they threaten Earth. Since quasi-moons orbit close to Earth and are often quite small, they would also be easier to visit and redirect than most other asteroids. This makes them ideal targets for missions like China’sTianwen-2. Scheduled for launch in 2025, Tianwen-2 will visit the quasi-moon 469219 Kamoʻoalewa, collect samples, and explode part of the asteroid’s surface to see what lies beneath. In the future, quasi-moons around other worlds could even act as science platforms, offering a vantage point for monitoring whatever body they loop around.\\n\\n==================================================\\n\\nTitle: A certain flair for solar activity Link: https://www.planetary.org/the-downlink/a-certain-flair-for-solar-activity Detailed Text:\\n\\n==================================================\\n\\nTitle: What is the Outer Space Treaty? Link: https://www.planetary.org/articles/what-is-the-outer-space-treaty Detailed Text: Kate Howells•May 14, 2024 The Outer Space Treaty is an international agreement that governs how nations act in space. Formally known as the \"Treaty on Principles Governing the Activities of States in the Exploration and Use of Outer Space, including the Moon and Other Celestial Bodies,\" it is one of international space law’s foundational documents. The overall purpose of theOuter Space Treatyis to keep space peaceful. Key provisions include banning nuclear weapons in space, preventing any country from claiming sovereignty over any celestial body, and establishing that space is to be freely explored and used by all nations for peaceful purposes. The Outer Space Treaty was motivated by concerns over the use of nuclear weapons in space. During the Cold War, the Soviet Union and the United States competed to develop powerful rockets and nuclear weapons, going so far as to test nuclear weapons in space. In response to this arms race, the United Nations began debating proposals for an arms control treaty governing outer space, which led to the development of the Outer Space Treaty. The treaty was adopted by the United Nations in 1967. Its first signatories were the United States, the United Kingdom, and the Soviet Union. As of 2024,115 countriesare parties to the treaty, including all major spacefaring nations. Another 22 countries are signatories.\\n\\nThe Outer Space Treaty includes several important principles that guide space exploration and use to this day. According to theU.N. Office of Outer Space Affairs, the treaty’s key principles are: That the exploration and use of outer space shall be carried out for the benefit and in the interests of all countries and shall be the province of all mankind; That outer space shall be free for exploration and use by all states; That outer space is not subject to national appropriation by claim of sovereignty, by means of use or occupation, or by any other means; That states shall not place nuclear weapons or other weapons of mass destruction in orbit or on celestial bodies or station them in outer space in any other manner; That the Moon and other celestial bodies shall be used exclusively for peaceful purposes; prohibits their use for testing weapons of any kind, conducting military maneuvers, or establishing military bases, installations, and fortifications That astronauts shall be regarded as the envoys of mankind; That states shall be responsible for national space activities whether carried out by governmental or non-governmental entities; That states shall be liable for damage caused by their space objects; and That states shall avoid harmful contamination of space and celestial bodies. Space activities have evolved enormously since 1967.\\n\\nStill, like many foundational documents, the Outer Space Treaty continues to guide the way international space law addresses new challenges, such as the growth of commercial space activities, interest in mining celestial bodies, removing orbital debris, and more. Several other treaties and agreements have built on the foundations laid by the Outer Space Treaty to address specific aspects of space activities and provide additional legal frameworks for outer space governance. The Rescue Agreement(1968) details states’ obligations to assist astronauts in distress and to return them to their country of origin. It also requires states to return parts of spacecraft found within their territory to the launching country. The Liability Convention(1972) elaborates on the mechanisms for damage compensation that states are liable for if their space activities cause harm to other states or their properties, whether in space or on Earth. The Registration Convention(1975) requires states to provide the United Nations with a registry of objects launched into outer space, to help manage space traffic and mitigate space debris. The Moon Agreement(1984) elaborates on the Outer Space Treaty’s principles regarding the Moon, specifically declaring that the Moon and its natural resources are the common heritage of mankind and can’t be exploited by any individual state or company for profit.\\n\\nHowever, the Moon Agreement has been ratified by relatively few countries and lacks participation from all major space-faring nations. The Artemis Accords(2020): Unlike the above agreements, the Artemis Accords are not affiliated with the United Nations. Instead, they were developed by the United States in conjunction with NASA’sArtemis Program. The Artemis Accords are designed to serve as practical and modern principles to guide cooperation in space exploration. As of May 2024, 39 countries have signed the Artemis Accords.\\n\\n==================================================\\n\\nTitle: Can you imagine?\\n\\nLink: https://www.planetary.org/the\\n\\ndownlink/can\\n\\nyou\\n\\nimagine\\n\\nDetailed Text:\\n\\n==================================================\\n\\nTitle: Meet the Habitable Worlds Observatory, NASAâ\\x80\\x99s life-seeking telescope Link: https://www.planetary.org/articles/meet-habitable-worlds-observatory Detailed Text: Jason Davis•May 06, 2024 A powerful new space telescope could help us answer the question of whether or not we are alone in the Universe. NASA’s Habitable Worlds Observatory, or HWO, is a “Super Hubble” telescope that would directly image Earth-sizeexoplanetscircling other stars. Using a JWST-size mirror and ultra-precise optics, HWO would scrutinize the atmospheres of these worlds for signs of life. “It\\'s the first observatory really designed around characterizing exoplanets as complex worlds, and not just as discovering them as point sources,” said Giada Arney, a member of the Science, Technology, and Architecture Review Team for HWO at NASA’s Goddard Space Flight Center. “That\\'s really exciting for me as a planetary scientist.” More than just a life hunter, HWO is designed to be a multipurpose observatory like Hubble and JWST. The telescope will study what drives galaxy growth and trace the origins of elements and molecules in the early Universe. It would also monitor worlds much closer to home. “I\\'m excited about the possibility of observing our Solar System\\'s ocean worlds, such as Neptune\\'s moonTritonand Jupiter\\'s moonEuropa,” said Lynnae Quick, an ocean worlds planetary scientist at Goddard.\\n\\n“HWO could be instrumental in helping us learn more about volatile cycling on Triton as the seasons change there,” she said. Building a next-generation observatory to hunt for life and advance our understanding of the Cosmos will be a challenging and costly project. The telescope would not launch until at least the early 2040s. But it will be worth the wait. No one knows what HWO will look like, as the telescope is still in its early design stages. But some basic requirements are already in place, thanks to the2020 astrophysics decadal survey, a community-authored report that sets priorities for NASA’s next 10 years. HWO would have a mirror about the size ofJWST’s and be positioned at the same location: the second Lagrange point, a gravitationally stable spot located 1.5 million kilometers (1 million miles) from Earth. LikeHubble, HWO would be serviceable, meaning future astronauts could journey to the telescope for repairs and upgrades. Also like Hubble, HWO would gather light in shorter, visible and ultraviolet wavelengths, where certain biosignatures are more pronounced. Shorter wavelengths also work best with a key piece of technology needed to directly observe exoplanets: a coronagraph. Coronagraphs are used to block the light of stars, revealing fainter nearby objects. Imaging an exoplanet is like searching for a firefly next to a spotlight. Seeing smaller, Earth-size planets will require the most advanced coronagraph ever built.\\n\\n“We need a coronagraph that is thousands of times more capable than any prior space coronagraph,” said Arney. “We also need an optics system that is exquisitely stable.” A technology demonstration coronagraph for HWO will fly on the upcomingRoman Space Telescope. Rather than blocking a star’s light with a disc,Roman’s coronagraphuses a series of mirrors and masks to separate light from an exoplanet from that of its host star. The mirrors are so precise that they can make adjustments smaller than the width of a strand of DNA. As extraordinary as that sounds, the requirements for the optics within HWO’s coronagraph may be even stricter, requiring corrections on the order of tens of picometers, smaller than the width of an atom. HWO will examine the atmospheres of at least 25 potentially habitable worlds, searching for biosignatures that could indicate the presence of life. The detection of biosignatures requires context, so that we can avoid being fooled by non-life processes. Key Earth biosignatures sought by HWO will include oxygen, ozone, and methane, though others are also under consideration. Scientists will have to apply what they know about the planets and moons in our own Solar System to interpret the conditions on the exoplanets HWO observes. “That type of ‘ground truth’ is very important when we\\'re looking for life,” Quick said.\\n\\n“In order to understand how prospects for life on Earth-like exoplanets may be affected by geological processes at their surfaces, we must first understand how geological processes on Earth and potentially habitable bodies in our Solar System, such as Europa,Mars, andTitan, have affected their suitability to harbor life over time.” Conceptual work on HWO is proceeding through two teams: START (Science, Technology, Architecture Review Team), which is working on the telescope’s science objectives, and TAG (Technical Assessment Group), which is working on technical requirements. In official NASA parlance, the project is in its pre-formulation phase. A project office at NASA Headquarters is expected to be established this year, which will move HWO into a “pre-phase A” status. It will take years to mature the technologies needed to build HWO and get the telescope ready for launch. But one day in the not-so-distant future, the observatory could train its eyes on a star system not unlike our own, and pick out the first signs of life on another world.', metadata={'source': 'pdfs-new/data.txt'})]\n"
     ]
    },
    {
     "name": "stderr",
     "output_type": "stream",
     "text": [
      "\n"
     ]
    }
   ],
   "source": [
    "loader = DirectoryLoader('pdfs-new', glob=\"*.txt\", show_progress=True) #Replace the directory with your dataset\n",
    "docs = loader.load()\n",
    "print(docs)"
   ]
  },
  {
   "cell_type": "code",
   "execution_count": 5,
   "metadata": {},
   "outputs": [],
   "source": [
    "text_splitter = TokenTextSplitter(chunk_size=512, chunk_overlap=24)\n",
    "documents = text_splitter.split_documents(docs[:3])"
   ]
  },
  {
   "cell_type": "code",
   "execution_count": 4,
   "metadata": {},
   "outputs": [],
   "source": [
    "from langchain_openai import ChatOpenAI\n",
    "llm=ChatOpenAI(temperature=0, model_name=\"gpt-3.5-turbo\")\n",
    "\n",
    "\n",
    "#TODO: Add the Ollama compatiblity for LLMGraphTransformer\n"
   ]
  },
  {
   "cell_type": "code",
   "execution_count": 7,
   "metadata": {},
   "outputs": [],
   "source": [
    "llm_transformer = LLMGraphTransformer(llm=llm)"
   ]
  },
  {
   "cell_type": "code",
   "execution_count": 8,
   "metadata": {},
   "outputs": [],
   "source": [
    "graph_documents = llm_transformer.convert_to_graph_documents(documents)"
   ]
  },
  {
   "cell_type": "code",
   "execution_count": 9,
   "metadata": {},
   "outputs": [
    {
     "data": {
      "text/plain": [
       "[GraphDocument(nodes=[Node(id='Nasa', type='Organization'), Node(id='Discovery', type='Mission class'), Node(id='New Frontiers', type='Mission class'), Node(id='Principal Investigators', type='Person')], relationships=[Relationship(source=Node(id='Nasa', type='Organization'), target=Node(id='Discovery', type='Mission class'), type='COMPETED'), Relationship(source=Node(id='Nasa', type='Organization'), target=Node(id='New Frontiers', type='Mission class'), type='COMPETED'), Relationship(source=Node(id='Principal Investigators', type='Person'), target=Node(id='Nasa', type='Organization'), type='LEAD')], source=Document(page_content='Title: What are competed planetary missions? Link: https://www.planetary.org/articles/what-are-competed-planetary-missions Detailed Text: Casey Dreier•May 30, 2024 When The Planetary Society advocates for a balanced portfolio of planetary exploration missions at NASA, we frequently mention the importance ofcompetedmissions as part of that balance. In essence, NASA releases funding opportunities every few years for new planetary missions, and various scientific teams submit ideas to compete for that mission funding; hence the moniker, competed missions. Within NASA’s robotic planetary exploration program, there are two types of competed mission classes: Discovery and New Frontiers. Missions of these types are distinguished by their leadership structure — with a single scientist in charge of delivering the spacecraft — and the competitive process by which the project is chosen. Competed missions historically cost less and fly more frequently than NASA’s high-profile flagship missions, which generally cost upwards of $2 billion and fly once per decade. NASA attempts to fly five Discovery-class missions and two New Frontiers missions every decade (congressional budgets permitting), with a $500 million cost cap on Discovery and a $900 million cost cap on New Frontiers. These cost caps are designed to limit NASA’s exposure to cost overruns, enabling more missions and allowing for more novel, higher-risk designs.\\n\\nAlso distinct is the political authority granted to NASA to pursue competed missions. Flagship missions represent the agency’s top scientific priorities, are assigned to a primary NASA center for implementation, and then must secure a funding commitment from the White House’s budgeting office and obtain a “new start” approval by Congress. Only then can NASA begin making long-term contracts and commitments necessary to build a large and complex spacecraft. In contrast, Discovery and New Frontiers missions are pre-authorized by Congress; NASA can select missions within those classes as frequently as funding allows. In theory, this provides more rapid development opportunities. Competed planetary missions are science-focused and scientist-led. This is again distinct from flagship-class missions, which, while science-focused, are led by an existing NASA center. Competed missions are led by Principal Investigators (PIs) who assemble both a science and engineering team to submit a detailed proposal to the space agency for the type of mission they’d like to pursue. The scientific payload and team are proposed wholistically by the very individuals who will then implement the mission. This', metadata={'source': 'pdfs-new/data.txt'})),\n",
       " GraphDocument(nodes=[Node(id='Nasa', type='Organization'), Node(id='Discovery Missions', type='Mission'), Node(id='New Frontiers Missions', type='Mission'), Node(id='Flagship Missions', type='Mission'), Node(id='Messenger', type='Mission'), Node(id='Mars Pathfinder', type='Mission'), Node(id='Psyche', type='Mission'), Node(id='Juno', type='Mission'), Node(id='Osiris-Rex', type='Mission'), Node(id='New Horizons', type='Mission'), Node(id='Perseverance Rover', type='Mission'), Node(id='Europa Clipper', type='Mission')], relationships=[Relationship(source=Node(id='Nasa', type='Organization'), target=Node(id='Discovery Missions', type='Mission'), type='SUPPORTS'), Relationship(source=Node(id='Nasa', type='Organization'), target=Node(id='New Frontiers Missions', type='Mission'), type='SUPPORTS'), Relationship(source=Node(id='Nasa', type='Organization'), target=Node(id='Flagship Missions', type='Mission'), type='SUPPORTS'), Relationship(source=Node(id='Discovery Missions', type='Mission'), target=Node(id='Messenger', type='Mission'), type='INCLUDES'), Relationship(source=Node(id='Discovery Missions', type='Mission'), target=Node(id='Mars Pathfinder', type='Mission'), type='INCLUDES'), Relationship(source=Node(id='Discovery Missions', type='Mission'), target=Node(id='Psyche', type='Mission'), type='INCLUDES'), Relationship(source=Node(id='New Frontiers Missions', type='Mission'), target=Node(id='Juno', type='Mission'), type='INCLUDES'), Relationship(source=Node(id='New Frontiers Missions', type='Mission'), target=Node(id='Osiris-Rex', type='Mission'), type='INCLUDES'), Relationship(source=Node(id='New Frontiers Missions', type='Mission'), target=Node(id='New Horizons', type='Mission'), type='INCLUDES'), Relationship(source=Node(id='Flagship Missions', type='Mission'), target=Node(id='Perseverance Rover', type='Mission'), type='INCLUDES'), Relationship(source=Node(id='Flagship Missions', type='Mission'), target=Node(id='Europa Clipper', type='Mission'), type='INCLUDES')], source=Document(page_content=' pursue. The scientific payload and team are proposed wholistically by the very individuals who will then implement the mission. This elevates scientific leadership to the top of the decision-making process and generally leads to a more copacetic (albeit smaller) science team.\\n\\nThe planetary sciencedecadal surveyprovides guidelines for the launch rates of competed missions and for science investigations for the more expensive New Frontiers missions. Discovery missions consider any high-priority scientific question within the Solar System. The lower costs, higher flight rate, and empowered scientific management of competed missions provide value back to NASA, the scientific community, and the public. They provide opportunities for scientists to assemble and manage tightly focused investigations and to gain a better understanding of the spacecraft development process. Delays and overruns are less serious than similar problems in flagship missions due to the smaller overall project budget, protecting the space agency’s other projects and the taxpayer. It also enables a more dynamic, responsive space agency that can marshal new missions to address new discoveries or scout out new locations in advance of larger missions in the future.\\n\\nExamples of Discovery missions are MESSENGER, Mars Pathfinder, andPsyche; New Frontiers missions of note areJuno, OSIRIS-REx, and New Horizons. Flagship missions are much larger, such as thePerseverancerover andEuropa Clipper. By ensuring a regular cadence of competed missions, NASA supports an independent scientific community, novel approaches to scientific exploration, and a broader swath of the aerospace industry and workforce by ensuring regular work to build and maintain expertise. Read More: NASA’S Discovery Program: The First Twenty Years of Competitive Planetary Exploration(NASA History Office e-book, 2024) Large Strategic NASA Science Missions: Science Value and Role in a Balanced Portfolio(National Academies report, 2017) Transforming solar system exploration: The origins of the Discovery Program, 1989 - 1993(refereed journal article, 2013)\\n\\n==================================================\\n\\nTitle: How to see the nova (â\\x80\\x9cnew starâ\\x80\\x9d) in Corona Borealis Link: https://www.planetary.org/articles/how-to-see-the-nova-new-star-in-corona-borealis Detailed Text: Asa Stahl•May 29, 2024 Sometime between now and the end of the year, a giant stellar explosion is likely going to shine in the night sky. This blast, called a no', metadata={'source': 'pdfs-new/data.txt'})),\n",
       " GraphDocument(nodes=[Node(id='T Corona Borealis', type='Star system'), Node(id='Nova', type='Stellar explosion'), Node(id='White Dwarf', type='Star')], relationships=[Relationship(source=Node(id='T Corona Borealis', type='Star system'), target=Node(id='Nova', type='Stellar explosion'), type='EXPECTED_TO_SHINE'), Relationship(source=Node(id='White Dwarf', type='Star'), target=Node(id='Nova', type='Stellar explosion'), type='TRIGGERS')], source=Document(page_content=' of the year, a giant stellar explosion is likely going to shine in the night sky. This blast, called a nova, is expected to be so bright that it will be visible even from major cities. The explosion won’t pose any danger to Earth — it’s too far away — but over a span of just days, the nova will unleash tens of thousands of times more energy than the Sun puts out over an entire year. The outburst will come from the star system T Corona Borealis, which puts on a similar show every 80 years or so. Astronomers currently predict about a 70% chance that T Corona Borealis will go nova by September, and a 95% chance that it’ll go off by the end of the year. The nova will likely be the brightest one seen on Earth since 1975. A nova is a runaway thermonuclear explosion that is, in essence, not too different from a gigantic hydrogen bomb. But instead of blasting out of a metal shell, a nova’s explosion happens on the surface of a white dwarf star. White dwarfs are the smoldering remains of stars like the Sun. Right now, the nuclear fusion of hydrogen in the Sun’s core produces energy that pushes back against gravity and keeps the Sun from falling in on itself. Eventually, though, the Sun will run out of fuel for fusion and collapse until it’s about the size of Earth.\\n\\nAt that point, the Sun won’t be able to get any denser without forcing its electrons past a limit set by quantum mechanics. When a star enters this stable, ultra-dense phase, it becomes a white dwarf. On its own, a white dwarf won’t make a nova. It has to be in a binary system, meaning it and another star orbit one another. If the other star still has plenty of hydrogen, and if it is not too far from the white dwarf, then the white dwarf’s gravity will skim off some of the other star’s outer layers. Over time, this fuel can accumulate on the surface of the white dwarf and heat up. When the fuel gets hot enough, it will ignite in a rapid chain reaction, releasing a giant burst of radiation and throwing off ejecta at thousands of kilometers per hour. Though this explosion is very energetic, it doesn’t destroy either star. The same pattern of build-up and burst can repeat again and again. T Corona Borealis', metadata={'source': 'pdfs-new/data.txt'})),\n",
       " GraphDocument(nodes=[Node(id='T Corona Borealis', type='Star'), Node(id='Corona Borealis', type='Star'), Node(id='Milky Way', type='Galaxy'), Node(id='Earth', type='Planet'), Node(id='White Dwarf', type='Star'), Node(id='Red Giant Star', type='Star'), Node(id='Supernova', type='Stellar explosion'), Node(id='Neutron Star', type='Celestial object'), Node(id='Black Hole', type='Celestial object'), Node(id='Nova', type='Stellar explosion'), Node(id='Quantum Mechanical Pressure', type='Physical force'), Node(id='Nuclear Fusion', type='Process'), Node(id='Mass', type='Physical quantity'), Node(id='Gravity', type='Force'), Node(id='Outburst', type='Event'), Node(id='Brightness', type='Property'), Node(id='Urban Areas', type='Area')], relationships=[Relationship(source=Node(id='T Corona Borealis', type='Star'), target=Node(id='Corona Borealis', type='Star'), type='REPEATS_CYCLE'), Relationship(source=Node(id='T Corona Borealis', type='Star'), target=Node(id='White Dwarf', type='Star'), type='COMPONENT_OF'), Relationship(source=Node(id='T Corona Borealis', type='Star'), target=Node(id='Red Giant Star', type='Star'), type='COMPONENT_OF'), Relationship(source=Node(id='Supernova', type='Stellar explosion'), target=Node(id='White Dwarf', type='Star'), type='TRIGGERS'), Relationship(source=Node(id='Supernova', type='Stellar explosion'), target=Node(id='Neutron Star', type='Celestial object'), type='RESULTS_IN'), Relationship(source=Node(id='Supernova', type='Stellar explosion'), target=Node(id='Black Hole', type='Celestial object'), type='RESULTS_IN'), Relationship(source=Node(id='Nova', type='Stellar explosion'), target=Node(id='Star System', type='System'), type='LEAVES_INTACT'), Relationship(source=Node(id='Nova', type='Stellar explosion'), target=Node(id='Brightness', type='Property'), type='CHANGES'), Relationship(source=Node(id='Nova', type='Stellar explosion'), target=Node(id='Urban Areas', type='Area'), type='VISIBLE_FROM')], source=Document(page_content='t destroy either star. The same pattern of build-up and burst can repeat again and again. T Corona Borealis, in particular, repeats its nova cycle roughly every 80 years. The system consists of a white dwarf and a red giant star located about 800 light-years from Earth. A supernova is a much bigger stellar explosion that does not happen more than once to the same star. Some supernovae are triggered when a star runs out of fuel for nuclear fusion and collapses, while others are caused by white dwarfs that accumulate enough mass.\\n\\nRegardless of the exact path, the source of a supernova has to be so massive that its gravity overcomes the quantum mechanical pressure that would keep a white dwarf stable. And while a nova leaves its star system intact, a supernova results in a neutron star or black hole, or completely destroys whatever object triggered it. Supernovae are also rarer than novae. The last supernova to happen in the Milky Way was in 1604, while the last nova was in 2022, though it was too dim to see with the naked eye. Some novae repeat relatively often, once every hundred years or more. If people observed these “recurrent novae” when they happened in the past, scientists can compare how light from the system changed in the lead-up to each outburst and look for similar behavior today. People have recorded novae from T Corona Borealis four times in the past. In 1217, an abbot in Germany wrote about it as a “wonderful sign.” In 1787, the nova was spotted again by an English astronomer. And in 1866 and 1946, scientists around the world took detailed measurements of how the system’s brightness changed over time. In 2015, astronomers noticed that T Corona Borealis was entering the same sort of phase that preceded its 1946 outburst by eight years. They initially predicted the system would erupt in the mid-2020s. Over time, researchers have narrowed the timing down to about a 70% chance of an outburst by September 2024 and a 95% chance of it by the end of the year.\\n\\nWhen it goes nova, T Corona Borealis should be visible to the naked eye at night from even relatively bright skies, like those in the middle of urban areas. It will dim significantly within days, though, so the best time to try to spot it will be as soon as the news breaks. At that point, the nova will be about as', metadata={'source': 'pdfs-new/data.txt'})),\n",
       " GraphDocument(nodes=[Node(id='Nova', type='Celestial event'), Node(id='Polaris', type='Star'), Node(id='Binoculars', type='Equipment'), Node(id='Corona Borealis', type='Constellation'), Node(id='Hercules', type='Constellation'), Node(id='Boötes', type='Constellation')], relationships=[Relationship(source=Node(id='Nova', type='Celestial event'), target=Node(id='Polaris', type='Star'), type='BRIGHTNESS_COMPARISON'), Relationship(source=Node(id='Nova', type='Celestial event'), target=Node(id='Binoculars', type='Equipment'), type='VIEWING_OPTION'), Relationship(source=Node(id='Nova', type='Celestial event'), target=Node(id='Corona Borealis', type='Constellation'), type='LOCATION'), Relationship(source=Node(id='Corona Borealis', type='Constellation'), target=Node(id='Hercules', type='Constellation'), type='ADJACENT_TO'), Relationship(source=Node(id='Corona Borealis', type='Constellation'), target=Node(id='Boötes', type='Constellation'), type='ADJACENT_TO')], source=Document(page_content=' try to spot it will be as soon as the news breaks. At that point, the nova will be about as bright as Polaris, the north star, which is among the top 50 brightest stars in the entire night sky. As the nova dims to the point where it’s no longer possible to see with the unaided eye, it may still be possible to view through binoculars or other special equipment. The nova will appear in the constellation Corona Borealis, or “northern crown,” which is located between the Hercules and Boötes constellations. This part of the sky should be visible from most places on Earth except for the far south, close to Antarctica. The nova won’t look like an explosion, but like a new star that wasn’t there before. So, to fully appreciate this celestial event, it’s worth looking up and noting that you can’t see the system before it goes nova.\\n\\n==================================================\\n\\nTitle: Mars rovers, helicopters, and sunsets Link: https://www.planetary.org/the-downlink/mars-rovers-helicopters-and-sunsets Detailed Text:\\n\\n==================================================\\n\\nTitle: Earthâ\\x80\\x99s quasi-moons, minimoons, and ghost moons Link: https://www.planetary.org/articles/the-quasi-moons-of-earth Detailed Text: Asa Stahl•May 21, 2024 Earth hosts seven known quasi-moons, an unknown number of minimoons, and maybe, sometimes, two ghost moons. Though none of these pseudo-moons are as big or influential as Earth’s one true natural satellite —the Moon— they are still valuable for science and exploration. Quasi- and minimoons offer promising targets for future space missions, a window into our planet’s neighborhood, and a sampling of the sort of asteroids that could potentially hit Earth. Earth’s quasi-moons get their name because, from a certain vantage point, they appear to act like moons. But from a wider perspective, it becomes obvious that they aren’t actually moons at all — they’reasteroids. It’s like a gravitational sleight of hand. From our point of view onEarth, each of these asteroids looks like it is orbiting our planet, yet they actually orbit the Sun. In', metadata={'source': 'pdfs-new/data.txt'})),\n",
       " GraphDocument(nodes=[], relationships=[], source=Document(page_content=' view onEarth, each of these asteroids looks like it is orbiting our planet, yet they actually orbit the Sun. In fact, the quasi-moons of Earth essentially share its orbit. They follow almost the exact same path as we do around the Sun. As these asteroids trace their orbits, they are slightly affected by Earth’s gravity, too. They don’t circle Earth like satellites, but their orbits do fall into a kind of lockstep with our planet that keeps them close by. A quasi-moon sometimes drifts ahead of Earth and sometimes trails behind it as both go around the Sun.\\n\\nFrom our vantage point, it ends up looking like the quasi-moon is orbiting us instead of our star. This configuration is called quasi-satellite motion, and it is one of several ways that celestial bodies can share an orbit with Earth. There are also “trojan” orbits, where an object traces loops around a point that stays consistently  ahead of or behind Earth as it goes around the Sun. And there are “horseshoe” orbits, where an object switches between leading Earth in its orbit and trailing it, but does not stay close to Earth like in quasi-satellite motion. All of Earth’s known quasi-moons are temporary. After hundreds or thousands of years, most will transition to trojan or horseshoe orbits. At the same time, some asteroids that are currently in one of these other kinds of shared orbits will eventually transition to become quasi-moons. A minimoon is an object that truly orbits a world, but only temporarily. Earth’s minimoons last for less than a year on average. They are very small and hard to detect: only four minimoons of Earth have ever been discovered, and none are still orbiting Earth. Some may actually have beenspace debris. The Gaia spacecraft was once mistaken for a minimoon, and so were rocket stages from the Chang’e 2 and Lunar Prospector missions. Ghost moons — if they really exist — are swirling clouds of dust that share Earth’s orbit, staying ahead of or behind Earth as it goes around the Sun.\\n\\nOfficially called “Kordylewski clouds,” ghost moons were first reported in the 1960s and were only tentatively confirmed in 2018. There is still no broad consensus on whether these clouds exist. It’s possible they appear and disappear depending on the influence of the Sun and planets. Quasi-mo', metadata={'source': 'pdfs-new/data.txt'})),\n",
       " GraphDocument(nodes=[Node(id='Sun', type='Celestial body'), Node(id='Planets', type='Celestial body'), Node(id='Moons', type='Celestial body'), Node(id='Asteroids', type='Celestial body'), Node(id='Venus', type='Planet'), Node(id='Jupiter', type='Planet'), Node(id='Saturn', type='Planet'), Node(id='Neptune', type='Planet'), Node(id='Pluto', type='Dwarf planet'), Node(id='Ceres', type='Asteroid'), Node(id='Zoozve', type='Quasi-moon'), Node(id='2002 Ve68', type='Quasi-moon'), Node(id='Earth', type='Planet'), Node(id='Astronomers', type='Scientist'), Node(id='Minimoons', type='Celestial body'), Node(id='Moon', type='Celestial body'), Node(id='Asteroid Belt', type='Celestial body'), Node(id='469219 KamoʻOalewa', type='Quasi-moon'), Node(id='China’S Tianwen-2', type='Mission')], relationships=[Relationship(source=Node(id='Sun', type='Celestial body'), target=Node(id='Planets', type='Celestial body'), type='INFLUENCE'), Relationship(source=Node(id='Sun', type='Celestial body'), target=Node(id='Moons', type='Celestial body'), type='INFLUENCE'), Relationship(source=Node(id='Sun', type='Celestial body'), target=Node(id='Asteroids', type='Celestial body'), type='INFLUENCE'), Relationship(source=Node(id='Planets', type='Celestial body'), target=Node(id='Venus', type='Planet'), type='ORBIT'), Relationship(source=Node(id='Planets', type='Celestial body'), target=Node(id='Jupiter', type='Planet'), type='ORBIT'), Relationship(source=Node(id='Planets', type='Celestial body'), target=Node(id='Saturn', type='Planet'), type='ORBIT'), Relationship(source=Node(id='Planets', type='Celestial body'), target=Node(id='Neptune', type='Planet'), type='ORBIT'), Relationship(source=Node(id='Planets', type='Celestial body'), target=Node(id='Pluto', type='Dwarf planet'), type='ORBIT'), Relationship(source=Node(id='Planets', type='Celestial body'), target=Node(id='Ceres', type='Asteroid'), type='ORBIT'), Relationship(source=Node(id='Venus', type='Planet'), target=Node(id='Zoozve', type='Quasi-moon'), type='ORBIT'), Relationship(source=Node(id='Zoozve', type='Quasi-moon'), target=Node(id='2002 Ve68', type='Quasi-moon'), type='ORIGINAL_IDENTIFIER'), Relationship(source=Node(id='Zoozve', type='Quasi-moon'), target=Node(id='Venus', type='Planet'), type='ORBIT'), Relationship(source=Node(id='Astronomers', type='Scientist'), target=Node(id='Earth', type='Planet'), type='STUDY'), Relationship(source=Node(id='Minimoons', type='Celestial body'), target=Node(id='Earth', type='Planet'), type='IMPACT'), Relationship(source=Node(id='Minimoons', type='Celestial body'), target=Node(id='Moon', type='Celestial body'), type='ORIGIN'), Relationship(source=Node(id='Minimoons', type='Celestial body'), target=Node(id='Asteroid Belt', type='Celestial body'), type='ORIGIN'), Relationship(source=Node(id='Minimoons', type='Celestial body'), target=Node(id='Larger Objects', type='Celestial body'), type='ORIGIN'), Relationship(source=Node(id='Minimoons', type='Celestial body'), target=Node(id='Earth', type='Planet'), type='BURN_UP'), Relationship(source=Node(id='Minimoons', type='Celestial body'), target=Node(id='Earth', type='Planet'), type='SIZE'), Relationship(source=Node(id='Minimoons', type='Celestial body'), target=Node(id='Earth', type='Planet'), type='FREQUENCY'), Relationship(source=Node(id='Minimoons', type='Celestial body'), target=Node(id='Earth', type='Planet'), type='IMPACT_RISK'), Relationship(source=Node(id='Minimoons', type='Celestial body'), target=Node(id='Earth', type='Planet'), type='ATMOSPHERE'), Relationship(source=Node(id='Minimoons', type='Celestial body'), target=Node(id='Earth', type='Planet'), type='COLLISION_RISK'), Relationship(source=Node(id='Minimoons', type='Celestial body'), target=Node(id='Earth', type='Planet'), type='PREDICTABILITY'), Relationship(source=Node(id='Minimoons', type='Celestial body'), target=Node(id='Astronomers', type='Scientist'), type='MONITORING'), Relationship(source=Node(id='Minimoons', type='Celestial body'), target=Node(id='Asteroids', type='Celestial body'), type='THREAT'), Relationship(source=Node(id='Minimoons', type='Celestial body'), target=Node(id='Moon', type='Celestial body'), type='IMPACT'), Relationship(source=Node(id='Minimoons', type='Celestial body'), target=Node(id='Moon', type='Celestial body'), type='ORIGIN'), Relationship(source=Node(id='Minimoons', type='Celestial body'), target=Node(id='Larger Objects', type='Celestial body'), type='IMPACT'), Relationship(source=Node(id='Minimoons', type='Celestial body'), target=Node(id='Asteroid Belt', type='Celestial body'), type='IMPACT'), Relationship(source=Node(id='Minimoons', type='Celestial body'), target=Node(id='Earth', type='Planet'), type='THREAT'), Relationship(source=Node(id='Minimoons', type='Celestial body'), target=Node(id='Earth', type='Planet'), type='RESEARCH'), Relationship(source=Node(id='Minimoons', type='Celestial body'), target=Node(id='Earth', type='Planet'), type='VISIT'), Relationship(source=Node(id='Minimoons', type='Celestial body'), target=Node(id='China’S Tianwen-2', type='Mission'), type='MISSION'), Relationship(source=Node(id='China’S Tianwen-2', type='Mission'), target=Node(id='469219 KamoʻOalewa', type='Quasi-moon'), type='VISIT'), Relationship(source=Node(id='China’S Tianwen-2', type='Mission'), target=Node(id='469219 KamoʻOalewa', type='Quasi-moon'), type='SAMPLE_COLLECTION'), Relationship(source=Node(id='China’S Tianwen-2', type='Mission'), target=Node(id='469219 KamoʻOalewa', type='Quasi-moon'), type='SURFACE_EXPLORATION'), Relationship(source=Node(id='469219 KamoʻOalewa', type='Quasi-moon'), target=Node(id='China’S Tianwen-2', type='Mission'), type='TARGET')], source=Document(page_content='. It’s possible they appear and disappear depending on the influence of the Sun and planets. Quasi-moons can orbit other planets, moons, or even asteroids. Venus, Jupiter, Saturn, Neptune, Pluto, and the asteroid Ceres all host at least one known quasi-moon. The first quasi-moon ever discovered,Zoozve, goes around Venus. Itgained its unusual namein a quirk of history, when an artist misread its original identifier 2002 VE68. Scientists used to think certain quasi-moons had a significant chance of impacting Earth, but thankfully, that’s no longer the case. Since Earth’s current quasi-moons are around 10–300 meters (30–1000 feet) in size, some are large enough to cause massive damage to a regionif they were to hit us. But there is no risk of a known quasi-moon colliding with Earth in the foreseeable future. The orbits of quasi-moons are predictable enough that astronomers should be able to see an impact coming well before it happens. As for minimoons, it’s not rare for them to hit Earth. About 1% of all minimoons eventually do, but most are small, so they burn up in our planet’s atmosphere. A very dangerously large minimoon, say 1 kilometer (0.6 mi) in diameter, is expected to hit Earth once every billion years at most.\\n\\nQuasi-moons and minimoons are pieces of our neighborhood in space, and they carry information about where they come from. They might originate in the main asteroid belt, from impacts on the Moon, or from the break-up of larger objects on similar orbits — scientists don’t know for sure. Answering that question, and finding out what these almost-moons are made of, can help researchers learn more about asteroids andhow they threaten Earth. Since quasi-moons orbit close to Earth and are often quite small, they would also be easier to visit and redirect than most other asteroids. This makes them ideal targets for missions like China’sTianwen-2. Scheduled for launch in 2025, Tianwen-2 will visit the quasi-moon 469219 Kamoʻoalewa, collect samples, and explode part of the asteroid’s surface to see what lies beneath. In the future, quasi-moons around other worlds could even act as science platforms, offering a vantage point for monitoring', metadata={'source': 'pdfs-new/data.txt'})),\n",
       " GraphDocument(nodes=[Node(id='Outer Space Treaty', type='Agreement'), Node(id='Nations', type='Countries'), Node(id='Space', type='Space'), Node(id='United Nations', type='Organization')], relationships=[Relationship(source=Node(id='Outer Space Treaty', type='Agreement'), target=Node(id='Nations', type='Countries'), type='GOVERN'), Relationship(source=Node(id='Outer Space Treaty', type='Agreement'), target=Node(id='Space', type='Space'), type='GOVERN'), Relationship(source=Node(id='Outer Space Treaty', type='Agreement'), target=Node(id='United Nations', type='Organization'), type='ADOPTED')], source=Document(page_content=' In the future, quasi-moons around other worlds could even act as science platforms, offering a vantage point for monitoring whatever body they loop around.\\n\\n==================================================\\n\\nTitle: A certain flair for solar activity Link: https://www.planetary.org/the-downlink/a-certain-flair-for-solar-activity Detailed Text:\\n\\n==================================================\\n\\nTitle: What is the Outer Space Treaty? Link: https://www.planetary.org/articles/what-is-the-outer-space-treaty Detailed Text: Kate Howells•May 14, 2024 The Outer Space Treaty is an international agreement that governs how nations act in space. Formally known as the \"Treaty on Principles Governing the Activities of States in the Exploration and Use of Outer Space, including the Moon and Other Celestial Bodies,\" it is one of international space law’s foundational documents. The overall purpose of theOuter Space Treatyis to keep space peaceful. Key provisions include banning nuclear weapons in space, preventing any country from claiming sovereignty over any celestial body, and establishing that space is to be freely explored and used by all nations for peaceful purposes. The Outer Space Treaty was motivated by concerns over the use of nuclear weapons in space. During the Cold War, the Soviet Union and the United States competed to develop powerful rockets and nuclear weapons, going so far as to test nuclear weapons in space. In response to this arms race, the United Nations began debating proposals for an arms control treaty governing outer space, which led to the development of the Outer Space Treaty. The treaty was adopted by the United Nations in 1967. Its first signatories were the United States, the United Kingdom, and the Soviet Union. As of 2024,115 countriesare parties to the treaty, including all major spacefaring nations. Another 22 countries are signatories.\\n\\nThe Outer Space Treaty includes several important principles that guide space exploration and use to this day. According to theU.N. Office of Outer Space Affairs, the treaty’s key principles are: That the exploration and use of outer space shall be carried out for the benefit and in the interests of all countries and shall be the province of all mankind; That outer space shall be free for exploration and use by all states; That outer space is not subject to national appropriation by claim of sovereignty, by means of use or occupation, or by any other means; That states shall not place nuclear weapons or other weapons of', metadata={'source': 'pdfs-new/data.txt'})),\n",
       " GraphDocument(nodes=[Node(id='Outer Space Treaty', type='Treaty'), Node(id='International Space Law', type='Law'), Node(id='Challenges', type='Issues'), Node(id='Commercial Space Activities', type='Activities'), Node(id='Mining Celestial Bodies', type='Activities'), Node(id='Removing Orbital Debris', type='Activities'), Node(id='Rescue Agreement', type='Agreement'), Node(id='Liability Convention', type='Convention'), Node(id='Registration Convention', type='Convention'), Node(id='Moon Agreement', type='Agreement'), Node(id='Artemis Accords', type='Accords'), Node(id='United Nations', type='Organization'), Node(id='Artemis Program', type='Program')], relationships=[Relationship(source=Node(id='Outer Space Treaty', type='Treaty'), target=Node(id='International Space Law', type='Law'), type='GUIDES'), Relationship(source=Node(id='Outer Space Treaty', type='Treaty'), target=Node(id='Challenges', type='Issues'), type='ADDRESSES'), Relationship(source=Node(id='Outer Space Treaty', type='Treaty'), target=Node(id='Commercial Space Activities', type='Activities'), type='REGULATES'), Relationship(source=Node(id='Outer Space Treaty', type='Treaty'), target=Node(id='Mining Celestial Bodies', type='Activities'), type='REGULATES'), Relationship(source=Node(id='Outer Space Treaty', type='Treaty'), target=Node(id='Removing Orbital Debris', type='Activities'), type='REGULATES'), Relationship(source=Node(id='Rescue Agreement', type='Agreement'), target=Node(id='International Space Law', type='Law'), type='COMPLEMENTS'), Relationship(source=Node(id='Rescue Agreement', type='Agreement'), target=Node(id='Astronauts', type='Person'), type='ASSISTS'), Relationship(source=Node(id='Rescue Agreement', type='Agreement'), target=Node(id='Country Of Origin', type='Country'), type='RETURNS'), Relationship(source=Node(id='Liability Convention', type='Convention'), target=Node(id='International Space Law', type='Law'), type='EXPANDS_ON'), Relationship(source=Node(id='Liability Convention', type='Convention'), target=Node(id='Mechanisms', type='Concept'), type='ELABORATES_ON'), Relationship(source=Node(id='Liability Convention', type='Convention'), target=Node(id='Damage Compensation', type='Concept'), type='DEFINES'), Relationship(source=Node(id='Liability Convention', type='Convention'), target=Node(id='States', type='Country'), type='HOLDS_ACCOUNTABLE'), Relationship(source=Node(id='Registration Convention', type='Convention'), target=Node(id='United Nations', type='Organization'), type='PROVIDES_TO'), Relationship(source=Node(id='Registration Convention', type='Convention'), target=Node(id='Registry Of Objects', type='Concept'), type='REQUIRES'), Relationship(source=Node(id='Moon Agreement', type='Agreement'), target=Node(id='Moon', type='Celestial body'), type='DECLARES_AS_COMMON_HERITAGE'), Relationship(source=Node(id='Moon Agreement', type='Agreement'), target=Node(id='Natural Resources', type='Resources'), type='DECLARES_AS_COMMON_HERITAGE'), Relationship(source=Node(id='Moon Agreement', type='Agreement'), target=Node(id='Individual State', type='Country'), type='PROHIBITS_EXPLOITATION'), Relationship(source=Node(id='Moon Agreement', type='Agreement'), target=Node(id='Company', type='Organization'), type='PROHIBITS_EXPLOITATION'), Relationship(source=Node(id='Artemis Accords', type='Accords'), target=Node(id='United Nations', type='Organization'), type='NOT_AFFILIATED_WITH'), Relationship(source=Node(id='Artemis Accords', type='Accords'), target=Node(id='United States', type='Country'), type='DEVELOPED_BY'), Relationship(source=Node(id='Artemis Accords', type='Accords'), target=Node(id='Artemis Program', type='Program'), type='DEVELOPED_WITH'), Relationship(source=Node(id='Artemis Accords', type='Accords'), target=Node(id='39 Countries', type='Country'), type='SIGNED_BY')], source=Document(page_content=' by means of use or occupation, or by any other means; That states shall not place nuclear weapons or other weapons of mass destruction in orbit or on celestial bodies or station them in outer space in any other manner; That the Moon and other celestial bodies shall be used exclusively for peaceful purposes; prohibits their use for testing weapons of any kind, conducting military maneuvers, or establishing military bases, installations, and fortifications That astronauts shall be regarded as the envoys of mankind; That states shall be responsible for national space activities whether carried out by governmental or non-governmental entities; That states shall be liable for damage caused by their space objects; and That states shall avoid harmful contamination of space and celestial bodies. Space activities have evolved enormously since 1967.\\n\\nStill, like many foundational documents, the Outer Space Treaty continues to guide the way international space law addresses new challenges, such as the growth of commercial space activities, interest in mining celestial bodies, removing orbital debris, and more. Several other treaties and agreements have built on the foundations laid by the Outer Space Treaty to address specific aspects of space activities and provide additional legal frameworks for outer space governance. The Rescue Agreement(1968) details states’ obligations to assist astronauts in distress and to return them to their country of origin. It also requires states to return parts of spacecraft found within their territory to the launching country. The Liability Convention(1972) elaborates on the mechanisms for damage compensation that states are liable for if their space activities cause harm to other states or their properties, whether in space or on Earth. The Registration Convention(1975) requires states to provide the United Nations with a registry of objects launched into outer space, to help manage space traffic and mitigate space debris. The Moon Agreement(1984) elaborates on the Outer Space Treaty’s principles regarding the Moon, specifically declaring that the Moon and its natural resources are the common heritage of mankind and can’t be exploited by any individual state or company for profit.\\n\\nHowever, the Moon Agreement has been ratified by relatively few countries and lacks participation from all major space-faring nations. The Artemis Accords(2020): Unlike the above agreements, the Artemis Accords are not affiliated with the United Nations. Instead, they were developed by the United States in conjunction with NASA’sArtemis Program. The Artemis Accords are designed to serve as practical and modern principles to guide cooperation in space exploration. As of May 2024, 39 countries have signed the Artemis Accords.\\n\\n==================================================\\n\\nTitle: Can you', metadata={'source': 'pdfs-new/data.txt'})),\n",
       " GraphDocument(nodes=[Node(id='39 Countries', type='Country'), Node(id='Artemis Accords', type='Accord')], relationships=[Relationship(source=Node(id='39 Countries', type='Country'), target=Node(id='Artemis Accords', type='Accord'), type='SIGNED')], source=Document(page_content=\" of May 2024, 39 countries have signed the Artemis Accords.\\n\\n==================================================\\n\\nTitle: Can you imagine?\\n\\nLink: https://www.planetary.org/the\\n\\ndownlink/can\\n\\nyou\\n\\nimagine\\n\\nDetailed Text:\\n\\n==================================================\\n\\nTitle: Meet the Habitable Worlds Observatory, NASAâ\\x80\\x99s life-seeking telescope Link: https://www.planetary.org/articles/meet-habitable-worlds-observatory Detailed Text: Jason Davis•May 06, 2024 A powerful new space telescope could help us answer the question of whether or not we are alone in the Universe. NASA’s Habitable Worlds Observatory, or HWO, is a “Super Hubble” telescope that would directly image Earth-sizeexoplanetscircling other stars. Using a JWST-size mirror and ultra-precise optics, HWO would scrutinize the atmospheres of these worlds for signs of life. “It's the first observatory really designed around characterizing exoplanets as complex worlds, and not just as discovering them as point sources,” said Giada Arney, a member of the Science, Technology, and Architecture Review Team for HWO at NASA’s Goddard Space Flight Center. “That's really exciting for me as a planetary scientist.” More than just a life hunter, HWO is designed to be a multipurpose observatory like Hubble and JWST. The telescope will study what drives galaxy growth and trace the origins of elements and molecules in the early Universe. It would also monitor worlds much closer to home. “I'm excited about the possibility of observing our Solar System's ocean worlds, such as Neptune's moonTritonand Jupiter's moonEuropa,” said Lynnae Quick, an ocean worlds planetary scientist at Goddard.\\n\\n“HWO could be instrumental in helping us learn more about volatile cycling on Triton as the seasons change there,” she said. Building a next-generation observatory to hunt for life and advance our understanding of the Cosmos will be a challenging and costly project. The telescope would not launch until at least the early 2040s. But it will be worth the wait. No one knows what HWO will look like, as the telescope is still in its early design stages. But some basic requirements are already in place, thanks to the2020 astrophysics dec\", metadata={'source': 'pdfs-new/data.txt'})),\n",
       " GraphDocument(nodes=[Node(id='Hwo', type='Telescope'), Node(id='Jwst', type='Telescope'), Node(id='Hubble', type='Telescope'), Node(id='Lagrange Point', type='Location'), Node(id='Nasa', type='Organization'), Node(id='Coronagraph', type='Technology'), Node(id='Roman Space Telescope', type='Telescope'), Node(id='Arney', type='Person')], relationships=[Relationship(source=Node(id='Hwo', type='Telescope'), target=Node(id='Jwst', type='Telescope'), type='SIMILAR_SIZE_AND_POSITION'), Relationship(source=Node(id='Hwo', type='Telescope'), target=Node(id='Lagrange Point', type='Location'), type='POSITIONED_AT'), Relationship(source=Node(id='Hwo', type='Telescope'), target=Node(id='Hubble', type='Telescope'), type='SERVICEABLE'), Relationship(source=Node(id='Hwo', type='Telescope'), target=Node(id='Coronagraph', type='Technology'), type='REQUIRES'), Relationship(source=Node(id='Roman Space Telescope', type='Telescope'), target=Node(id='Coronagraph', type='Technology'), type='DEMONSTRATION')], source=Document(page_content=\" is still in its early design stages. But some basic requirements are already in place, thanks to the2020 astrophysics decadal survey, a community-authored report that sets priorities for NASA’s next 10 years. HWO would have a mirror about the size ofJWST’s and be positioned at the same location: the second Lagrange point, a gravitationally stable spot located 1.5 million kilometers (1 million miles) from Earth. LikeHubble, HWO would be serviceable, meaning future astronauts could journey to the telescope for repairs and upgrades. Also like Hubble, HWO would gather light in shorter, visible and ultraviolet wavelengths, where certain biosignatures are more pronounced. Shorter wavelengths also work best with a key piece of technology needed to directly observe exoplanets: a coronagraph. Coronagraphs are used to block the light of stars, revealing fainter nearby objects. Imaging an exoplanet is like searching for a firefly next to a spotlight. Seeing smaller, Earth-size planets will require the most advanced coronagraph ever built.\\n\\n“We need a coronagraph that is thousands of times more capable than any prior space coronagraph,” said Arney. “We also need an optics system that is exquisitely stable.” A technology demonstration coronagraph for HWO will fly on the upcomingRoman Space Telescope. Rather than blocking a star’s light with a disc,Roman’s coronagraphuses a series of mirrors and masks to separate light from an exoplanet from that of its host star. The mirrors are so precise that they can make adjustments smaller than the width of a strand of DNA. As extraordinary as that sounds, the requirements for the optics within HWO’s coronagraph may be even stricter, requiring corrections on the order of tens of picometers, smaller than the width of an atom. HWO will examine the atmospheres of at least 25 potentially habitable worlds, searching for biosignatures that could indicate the presence of life. The detection of biosignatures requires context, so that we can avoid being fooled by non-life processes. Key Earth biosignatures sought by HWO will include oxygen, ozone, and methane, though others are also under consideration. Scientists will have to apply what they know about the planets and moons in our own Solar System to interpret the conditions on the exoplanets HWO observes. “That type of ‘ground truth’ is very important when we're\", metadata={'source': 'pdfs-new/data.txt'})),\n",
       " GraphDocument(nodes=[Node(id='Exoplanets', type='Entity'), Node(id='Hwo', type='Entity'), Node(id='Quick', type='Person'), Node(id='Europa', type='Entity'), Node(id='Mars', type='Entity'), Node(id='Titan', type='Entity'), Node(id='Start', type='Entity'), Node(id='Tag', type='Entity'), Node(id='Nasa Headquarters', type='Entity')], relationships=[Relationship(source=Node(id='Quick', type='Person'), target=Node(id='Hwo', type='Entity'), type='OBSERVES'), Relationship(source=Node(id='Hwo', type='Entity'), target=Node(id='Exoplanets', type='Entity'), type='OBSERVES'), Relationship(source=Node(id='Hwo', type='Entity'), target=Node(id='Europa', type='Entity'), type='AFFECTED_BY_GEOLOGICAL_PROCESSES'), Relationship(source=Node(id='Hwo', type='Entity'), target=Node(id='Mars', type='Entity'), type='AFFECTED_BY_GEOLOGICAL_PROCESSES'), Relationship(source=Node(id='Hwo', type='Entity'), target=Node(id='Titan', type='Entity'), type='AFFECTED_BY_GEOLOGICAL_PROCESSES'), Relationship(source=Node(id='Hwo', type='Entity'), target=Node(id='Start', type='Entity'), type='PART_OF'), Relationship(source=Node(id='Hwo', type='Entity'), target=Node(id='Tag', type='Entity'), type='PART_OF'), Relationship(source=Node(id='Hwo', type='Entity'), target=Node(id='Nasa Headquarters', type='Entity'), type='LOCATED_AT')], source=Document(page_content=\" exoplanets HWO observes. “That type of ‘ground truth’ is very important when we're looking for life,” Quick said.\\n\\n“In order to understand how prospects for life on Earth-like exoplanets may be affected by geological processes at their surfaces, we must first understand how geological processes on Earth and potentially habitable bodies in our Solar System, such as Europa,Mars, andTitan, have affected their suitability to harbor life over time.” Conceptual work on HWO is proceeding through two teams: START (Science, Technology, Architecture Review Team), which is working on the telescope’s science objectives, and TAG (Technical Assessment Group), which is working on technical requirements. In official NASA parlance, the project is in its pre-formulation phase. A project office at NASA Headquarters is expected to be established this year, which will move HWO into a “pre-phase A” status. It will take years to mature the technologies needed to build HWO and get the telescope ready for launch. But one day in the not-so-distant future, the observatory could train its eyes on a star system not unlike our own, and pick out the first signs of life on another world.\", metadata={'source': 'pdfs-new/data.txt'}))]"
      ]
     },
     "execution_count": 9,
     "metadata": {},
     "output_type": "execute_result"
    }
   ],
   "source": [
    "graph_documents "
   ]
  },
  {
   "cell_type": "code",
   "execution_count": 10,
   "metadata": {},
   "outputs": [],
   "source": [
    "graph.add_graph_documents(\n",
    "    graph_documents,\n",
    "    baseEntityLabel=True,\n",
    "    include_source=True\n",
    ")"
   ]
  },
  {
   "cell_type": "code",
   "execution_count": 11,
   "metadata": {},
   "outputs": [],
   "source": [
    "default_cypher = \"MATCH (s)-[r:!MENTIONS]->(t) RETURN s,r,t LIMIT 50\""
   ]
  },
  {
   "cell_type": "code",
   "execution_count": 12,
   "metadata": {},
   "outputs": [],
   "source": [
    "from yfiles_jupyter_graphs import GraphWidget\n",
    "from neo4j import GraphDatabase"
   ]
  },
  {
   "cell_type": "code",
   "execution_count": 13,
   "metadata": {},
   "outputs": [],
   "source": [
    "def showGraph(cypher: str = default_cypher):\n",
    "    # create a neo4j session to run queries\n",
    "    driver = GraphDatabase.driver(\n",
    "        uri = os.environ[\"NEO4J_URI\"],\n",
    "        auth = (os.environ[\"NEO4J_USERNAME\"],\n",
    "                os.environ[\"NEO4J_PASSWORD\"]))\n",
    "    session = driver.session()\n",
    "    widget = GraphWidget(graph = session.run(cypher).graph())\n",
    "    widget.node_label_mapping = 'id'\n",
    "    display(widget)\n",
    "    return widget"
   ]
  },
  {
   "cell_type": "code",
   "execution_count": 14,
   "metadata": {},
   "outputs": [
    {
     "data": {
      "application/vnd.jupyter.widget-view+json": {
       "model_id": "410f5c4aaee8444a8bdda0322d846557",
       "version_major": 2,
       "version_minor": 0
      },
      "text/plain": [
       "GraphWidget(layout=Layout(height='800px', width='100%'))"
      ]
     },
     "metadata": {},
     "output_type": "display_data"
    },
    {
     "data": {
      "application/vnd.jupyter.widget-view+json": {
       "model_id": "410f5c4aaee8444a8bdda0322d846557",
       "version_major": 2,
       "version_minor": 0
      },
      "text/plain": [
       "GraphWidget(layout=Layout(height='800px', width='100%'))"
      ]
     },
     "metadata": {},
     "output_type": "display_data"
    }
   ],
   "source": [
    "showGraph()"
   ]
  },
  {
   "cell_type": "code",
   "execution_count": 15,
   "metadata": {},
   "outputs": [],
   "source": [
    "from langchain_openai import OpenAIEmbeddings\n",
    "vector_index = Neo4jVector.from_existing_graph(\n",
    "    OpenAIEmbeddings(),\n",
    "    search_type=\"hybrid\",\n",
    "    node_label=\"Document\",\n",
    "    text_node_properties=[\"text\"],\n",
    "    embedding_node_property=\"embedding\"\n",
    ")"
   ]
  },
  {
   "cell_type": "code",
   "execution_count": 16,
   "metadata": {},
   "outputs": [
    {
     "data": {
      "text/plain": [
       "[]"
      ]
     },
     "execution_count": 16,
     "metadata": {},
     "output_type": "execute_result"
    }
   ],
   "source": [
    "graph.query(\"CREATE FULLTEXT INDEX entity IF NOT EXISTS FOR (e:__Entity__) ON EACH [e.id]\")"
   ]
  },
  {
   "cell_type": "code",
   "execution_count": 17,
   "metadata": {},
   "outputs": [],
   "source": [
    "from langchain_core.pydantic_v1 import BaseModel, Field\n",
    "# Extract entities from text\n",
    "class Entities(BaseModel):\n",
    "    \"\"\"Identifying information about entities.\"\"\"\n",
    "\n",
    "    names: List[str] = Field(\n",
    "        ...,\n",
    "        description=\"All the person, organization, or business entities that \"\n",
    "        \"appear in the text\",\n",
    "    )"
   ]
  },
  {
   "cell_type": "code",
   "execution_count": 18,
   "metadata": {},
   "outputs": [],
   "source": [
    "from langchain_core.prompts import ChatPromptTemplate\n",
    "from langchain_core.prompts.prompt import PromptTemplate"
   ]
  },
  {
   "cell_type": "code",
   "execution_count": 19,
   "metadata": {},
   "outputs": [],
   "source": [
    "prompt = ChatPromptTemplate.from_messages(\n",
    "    [\n",
    "        (\n",
    "            \"system\",\n",
    "            \"You are extracting organization and person entities from the text.\",\n",
    "        ),\n",
    "        (\n",
    "            \"human\",\n",
    "            \"Use the given format to extract information from the following \"\n",
    "            \"input: {question}\",\n",
    "        ),\n",
    "    ]\n",
    ")"
   ]
  },
  {
   "cell_type": "code",
   "execution_count": 20,
   "metadata": {},
   "outputs": [],
   "source": [
    "entity_chain = prompt | llm.with_structured_output(Entities)"
   ]
  },
  {
   "cell_type": "code",
   "execution_count": 21,
   "metadata": {},
   "outputs": [
    {
     "data": {
      "text/plain": [
       "Entities(names=['detection', 'gravitational wave'])"
      ]
     },
     "execution_count": 21,
     "metadata": {},
     "output_type": "execute_result"
    }
   ],
   "source": [
    "entity_chain.invoke({\"question\": \"In which year detection of gravitational wave happened?\"})"
   ]
  },
  {
   "cell_type": "code",
   "execution_count": 22,
   "metadata": {},
   "outputs": [],
   "source": [
    "from langchain_community.vectorstores.neo4j_vector import remove_lucene_chars"
   ]
  },
  {
   "cell_type": "code",
   "execution_count": 23,
   "metadata": {},
   "outputs": [],
   "source": [
    "def generate_full_text_query(input: str) -> str:\n",
    "    full_text_query = \"\"\n",
    "    words = [el for el in remove_lucene_chars(input).split() if el]\n",
    "    for word in words[:-1]:\n",
    "        full_text_query += f\" {word}~2 AND\"\n",
    "    full_text_query += f\" {words[-1]}~2\"\n",
    "    return full_text_query.strip()"
   ]
  },
  {
   "cell_type": "code",
   "execution_count": 24,
   "metadata": {},
   "outputs": [],
   "source": [
    "# Fulltext index query\n",
    "def structured_retriever(question: str) -> str:\n",
    "    result = \"\"\n",
    "    entities = entity_chain.invoke({\"question\": question})\n",
    "    for entity in entities.names:\n",
    "        response = graph.query(\n",
    "            \"\"\"CALL db.index.fulltext.queryNodes('entity', $query, {limit:2})\n",
    "            YIELD node,score\n",
    "            CALL {\n",
    "              WITH node\n",
    "              MATCH (node)-[r:!MENTIONS]->(neighbor)\n",
    "              RETURN node.id + ' - ' + type(r) + ' -> ' + neighbor.id AS output\n",
    "              UNION ALL\n",
    "              WITH node\n",
    "              MATCH (node)<-[r:!MENTIONS]-(neighbor)\n",
    "              RETURN neighbor.id + ' - ' + type(r) + ' -> ' +  node.id AS output\n",
    "            }\n",
    "            RETURN output LIMIT 50\n",
    "            \"\"\",\n",
    "            {\"query\": generate_full_text_query(entity)},\n",
    "        )\n",
    "        result += \"\\n\".join([el['output'] for el in response])\n",
    "    return result\n"
   ]
  },
  {
   "cell_type": "code",
   "execution_count": 25,
   "metadata": {},
   "outputs": [
    {
     "name": "stdout",
     "output_type": "stream",
     "text": [
      "\n"
     ]
    }
   ],
   "source": [
    "print(structured_retriever(\"What are competed planetary missions\"))"
   ]
  },
  {
   "cell_type": "code",
   "execution_count": 26,
   "metadata": {},
   "outputs": [],
   "source": [
    "def retriever(question: str):\n",
    "    print(f\"Search query: {question}\")\n",
    "    structured_data = structured_retriever(question)\n",
    "    unstructured_data = [el.page_content for el in vector_index.similarity_search(question)]\n",
    "    final_data = f\"\"\"Structured data:\n",
    "{structured_data}\n",
    "Unstructured data:\n",
    "{\"#Document \". join(unstructured_data)}\n",
    "    \"\"\"\n",
    "    return final_data"
   ]
  },
  {
   "cell_type": "code",
   "execution_count": 27,
   "metadata": {},
   "outputs": [],
   "source": [
    "_template = \"\"\"Given the following conversation and a follow up question, rephrase the follow up question to be a standalone question,\n",
    "in its original language.\n",
    "Chat History:\n",
    "{chat_history}\n",
    "Follow Up Input: {question}\n",
    "Standalone question:\"\"\""
   ]
  },
  {
   "cell_type": "code",
   "execution_count": 28,
   "metadata": {},
   "outputs": [],
   "source": [
    "CONDENSE_QUESTION_PROMPT = PromptTemplate.from_template(_template)"
   ]
  },
  {
   "cell_type": "code",
   "execution_count": 29,
   "metadata": {},
   "outputs": [],
   "source": [
    "def _format_chat_history(chat_history: List[Tuple[str, str]]) -> List:\n",
    "    buffer = []\n",
    "    for human, ai in chat_history:\n",
    "        buffer.append(HumanMessage(content=human))\n",
    "        buffer.append(AIMessage(content=ai))\n",
    "    return buffer"
   ]
  },
  {
   "cell_type": "code",
   "execution_count": 30,
   "metadata": {},
   "outputs": [],
   "source": [
    "_search_query = RunnableBranch(\n",
    "    # If input includes chat_history, we condense it with the follow-up question\n",
    "    (\n",
    "        RunnableLambda(lambda x: bool(x.get(\"chat_history\"))).with_config(\n",
    "            run_name=\"HasChatHistoryCheck\"\n",
    "        ),  # Condense follow-up question and chat into a standalone_question\n",
    "        RunnablePassthrough.assign(\n",
    "            chat_history=lambda x: _format_chat_history(x[\"chat_history\"])\n",
    "        )\n",
    "        | CONDENSE_QUESTION_PROMPT\n",
    "        | ChatOpenAI(temperature=0)\n",
    "        | StrOutputParser(),\n",
    "    ),\n",
    "    # Else, we have no chat history, so just pass through the question\n",
    "    RunnableLambda(lambda x : x[\"question\"]),\n",
    ")"
   ]
  },
  {
   "cell_type": "code",
   "execution_count": 44,
   "metadata": {},
   "outputs": [],
   "source": [
    "template = \"\"\"Answer the question based only on the following context:\n",
    "{context}\n",
    "\n",
    "Question: {question}\n",
    "Use natural language and be concise and give a detailed explanation of the question with links and references.\n",
    "Answer:\"\"\""
   ]
  },
  {
   "cell_type": "code",
   "execution_count": 45,
   "metadata": {},
   "outputs": [],
   "source": [
    "prompt = ChatPromptTemplate.from_template(template)"
   ]
  },
  {
   "cell_type": "code",
   "execution_count": 46,
   "metadata": {},
   "outputs": [],
   "source": [
    "\n",
    "chain = (\n",
    "    RunnableParallel(\n",
    "        {\n",
    "            \"context\": _search_query | retriever,\n",
    "            \"question\": RunnablePassthrough(),\n",
    "        }\n",
    "    )\n",
    "    | prompt\n",
    "    | llm\n",
    "    | StrOutputParser()\n",
    ")"
   ]
  },
  {
   "cell_type": "code",
   "execution_count": 47,
   "metadata": {},
   "outputs": [
    {
     "name": "stdout",
     "output_type": "stream",
     "text": [
      "Search query: What are competed planetary missions? give a link to the article as well\n",
      "Competed planetary missions are missions where various scientific teams compete for funding opportunities released by NASA every few years to propose new planetary exploration missions. These missions fall under two classes: Discovery and New Frontiers, with cost caps of $500 million and $900 million respectively. Competed missions are led by Principal Investigators who assemble science and engineering teams to submit detailed proposals to NASA. These missions are science-focused, scientist-led, and historically cost less and fly more frequently than flagship missions. For more information, you can refer to the article \"What are competed planetary missions?\" on The Planetary Society website: [Link](https://www.planetary.org/articles/what-are-competed-planetary-missions).\n"
     ]
    }
   ],
   "source": [
    "response = chain.invoke({\"question\": \"What are competed planetary missions? give a link to the article as well\"})\n",
    "print(response)"
   ]
  },
  {
   "cell_type": "code",
   "execution_count": null,
   "metadata": {},
   "outputs": [],
   "source": []
  }
 ],
 "metadata": {
  "kernelspec": {
   "display_name": "hello",
   "language": "python",
   "name": "python3"
  },
  "language_info": {
   "codemirror_mode": {
    "name": "ipython",
    "version": 3
   },
   "file_extension": ".py",
   "mimetype": "text/x-python",
   "name": "python",
   "nbconvert_exporter": "python",
   "pygments_lexer": "ipython3",
   "version": "3.12.3"
  }
 },
 "nbformat": 4,
 "nbformat_minor": 2
}
