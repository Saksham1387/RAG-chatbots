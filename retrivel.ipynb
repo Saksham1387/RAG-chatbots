{
 "cells": [
  {
   "cell_type": "code",
   "execution_count": 19,
   "id": "328549c0-b529-444e-a686-c3837539e97a",
   "metadata": {},
   "outputs": [],
   "source": [
    "from langchain_community.document_loaders import DirectoryLoader\n",
    "from langchain_community.document_loaders import TextLoader\n",
    "from langchain.text_splitter import RecursiveCharacterTextSplitter\n",
    "from langchain_community.embeddings import OpenAIEmbeddings\n",
    "from langchain_community.embeddings import OllamaEmbeddings\n",
    "from langchain_community.vectorstores import FAISS\n",
    "from langchain_community.llms import Ollama\n",
    "from langchain_core.prompts import ChatPromptTemplate\n",
    "from langchain.chains.combine_documents import create_stuff_documents_chain\n",
    "from langchain.chains import create_retrieval_chain\n",
    "import textwrap\n",
    "from langchain_community.document_loaders import TextLoader"
   ]
  },
  {
   "cell_type": "code",
   "execution_count": 20,
   "id": "f755b046-1534-438b-9d73-50a9d4e9e62e",
   "metadata": {},
   "outputs": [
    {
     "name": "stderr",
     "output_type": "stream",
     "text": [
      "100%|██████████| 1/1 [00:00<00:00, 78.69it/s]"
     ]
    },
    {
     "name": "stdout",
     "output_type": "stream",
     "text": [
      "[Document(page_content=\"Date:May 28, 2024 - 9:00 PM Content:Today was another challenging day. I had a presentation in my history class, and as much as I practiced, the stuttering took over. It felt like every word was a mountain I had to climb. I saw the pity in my classmates' eyes, and even though they try to be supportive, it still stings. Mrs. Thompson, my teacher, was patient and encouraging, but I couldn't help but feel embarrassed. I wish I could speak fluently, just for once, and not have to worry about tripping over my words. I wonder if they know how much I rehearse at home, trying to get it right. Sometimes, it feels like my voice is my biggest enemy.\\n\\n--------------------------\\n\\nDate:May 29, 2024 - 10:30 PM Content:Today was slightly better. I had a therapy session with Dr. Miller. We worked on some breathing exercises and techniques to manage my speech blocks. It helps a bit, but it’s exhausting. We also talked about the anxiety that comes with speaking in public. Dr. Miller suggested joining a support group for people who stutter. I’m considering it, but the thought of speaking about my stutter to others who also struggle with it feels daunting. It’s a vicious cycle – my anxiety makes the stuttering worse, and the stuttering increases my anxiety. At least I have these sessions to help me cope.\\n\\n--------------------------\\n\\nDate:May 30, 2024 - 8:45 PM Content:Today, I tried something new. Inspired by my therapy session, I decided to practice speaking in front of a mirror. It felt awkward at first, but after a while, I started to get used to my reflection and the sound of my voice. I read aloud from my favorite book, “Harry Potter.” There were still moments when I got stuck on words, but I kept pushing through. I want to believe that with enough practice, I can improve. After my mirror session, I felt a small sense of accomplishment. It’s not much, but it’s something. Every small victory counts, right?\\n\\n--------------------------\\n\\nDate:May 31, 2024 - 7:15 PM Content:School was tough today. We had a group discussion in English class, and I could feel the familiar knots forming in my stomach as my turn approached. I managed to say what I wanted to, but it wasn’t easy. I stumbled and stammered through my points, and while no one made fun of me, I still felt the weight of their silent judgments. After school, I met up with Jake, my best friend. He’s one of the few people who truly gets me. We hung out at the park, and I felt more relaxed talking to him. He never finishes my sentences for me, and he waits patiently while I get my words out. Friends like Jake are rare.\\n\\n--------------------------\\n\\nDate:June 1, 2024 - 11:00 PM Content:It’s the weekend, and I spent most of the day at home. I decided to give the support group a try and joined an online meeting. It was strange at first, seeing others who share my struggle. But hearing their stories made me feel less alone. Some of them have been stuttering for years and have found ways to live with it, even thrive despite it. I spoke up towards the end, and though my voice trembled and my words caught, I felt a sense of solidarity. We all understood each other’s pain and triumphs. I’m glad I took the step to join. It gave me a bit of hope, something I’ve been needing.\", metadata={'source': 'entry-data/data.txt'})]\n"
     ]
    },
    {
     "name": "stderr",
     "output_type": "stream",
     "text": [
      "\n"
     ]
    }
   ],
   "source": [
    "loader = DirectoryLoader('entry-data', glob=\"*.txt\", show_progress=True)\n",
    "docs = loader.load()\n",
    "print(docs)"
   ]
  },
  {
   "cell_type": "code",
   "execution_count": 21,
   "id": "c794577c",
   "metadata": {},
   "outputs": [
    {
     "name": "stdout",
     "output_type": "stream",
     "text": [
      "page_content=\"Date:May 28, 2024 - 9:00 PM Content:Today was another challenging day. I had a presentation in my history class, and as much as I practiced, the stuttering took over. It felt like every word was a mountain I had to climb. I saw the pity in my classmates' eyes, and even though they try to be supportive, it still stings. Mrs. Thompson, my teacher, was patient and encouraging, but I couldn't help but feel embarrassed. I wish I could speak fluently, just for once, and not have to worry about tripping over my words. I wonder if they know how much I rehearse at home, trying to get it right. Sometimes, it feels like my voice is my biggest enemy.\\n\\n--------------------------\\n\\nDate:May 29, 2024 - 10:30 PM Content:Today was slightly better. I had a therapy session with Dr. Miller. We worked on some breathing exercises and techniques to manage my speech blocks. It helps a bit, but it’s exhausting. We also talked about the anxiety that comes with speaking in public. Dr. Miller suggested joining a support group for people who stutter. I’m considering it, but the thought of speaking about my stutter to others who also struggle with it feels daunting. It’s a vicious cycle – my anxiety makes the stuttering worse, and the stuttering increases my anxiety. At least I have these sessions to help me cope.\\n\\n--------------------------\\n\\nDate:May 30, 2024 - 8:45 PM Content:Today, I tried something new. Inspired by my therapy session, I decided to practice speaking in front of a mirror. It felt awkward at first, but after a while, I started to get used to my reflection and the sound of my voice. I read aloud from my favorite book, “Harry Potter.” There were still moments when I got stuck on words, but I kept pushing through. I want to believe that with enough practice, I can improve. After my mirror session, I felt a small sense of accomplishment. It’s not much, but it’s something. Every small victory counts, right?\\n\\n--------------------------\\n\\nDate:May 31, 2024 - 7:15 PM Content:School was tough today. We had a group discussion in English class, and I could feel the familiar knots forming in my stomach as my turn approached. I managed to say what I wanted to, but it wasn’t easy. I stumbled and stammered through my points, and while no one made fun of me, I still felt the weight of their silent judgments. After school, I met up with Jake, my best friend. He’s one of the few people who truly gets me. We hung out at the park, and I felt more relaxed talking to him. He never finishes my sentences for me, and he waits patiently while I get my words out. Friends like Jake are rare.\\n\\n--------------------------\\n\\nDate:June 1, 2024 - 11:00 PM Content:It’s the weekend, and I spent most of the day at home. I decided to give the support group a try and joined an online meeting. It was strange at first, seeing others who share my struggle. But hearing their stories made me feel less alone. Some of them have been stuttering for years and have found ways to live with it, even thrive despite it. I spoke up towards the end, and though my voice trembled and my words caught, I felt a sense of solidarity. We all understood each other’s pain and triumphs. I’m glad I took the step to join. It gave me a bit of hope, something I’ve been needing.\" metadata={'source': 'entry-data/data.txt'}\n"
     ]
    }
   ],
   "source": [
    "print(docs[0])"
   ]
  },
  {
   "cell_type": "code",
   "execution_count": 22,
   "id": "fb4d9c10",
   "metadata": {},
   "outputs": [
    {
     "data": {
      "text/plain": [
       "[Document(page_content=\"Date:May 28, 2024 - 9:00 PM Content:Today was another challenging day. I had a presentation in my history class, and as much as I practiced, the stuttering took over. It felt like every word was a mountain I had to climb. I saw the pity in my classmates' eyes, and even though they try to be supportive, it still stings. Mrs. Thompson, my teacher, was patient and encouraging, but I couldn't help but feel embarrassed. I wish I could speak fluently, just for once, and not have to worry about tripping over my words. I wonder if they know how much I rehearse at home, trying to get it right. Sometimes, it feels like my voice is my biggest enemy.\\n\\n--------------------------\", metadata={'source': 'entry-data/data.txt'}),\n",
       " Document(page_content='Date:May 29, 2024 - 10:30 PM Content:Today was slightly better. I had a therapy session with Dr. Miller. We worked on some breathing exercises and techniques to manage my speech blocks. It helps a bit, but it’s exhausting. We also talked about the anxiety that comes with speaking in public. Dr. Miller suggested joining a support group for people who stutter. I’m considering it, but the thought of speaking about my stutter to others who also struggle with it feels daunting. It’s a vicious cycle – my anxiety makes the stuttering worse, and the stuttering increases my anxiety. At least I have these sessions to help me cope.\\n\\n--------------------------', metadata={'source': 'entry-data/data.txt'}),\n",
       " Document(page_content='Date:May 30, 2024 - 8:45 PM Content:Today, I tried something new. Inspired by my therapy session, I decided to practice speaking in front of a mirror. It felt awkward at first, but after a while, I started to get used to my reflection and the sound of my voice. I read aloud from my favorite book, “Harry Potter.” There were still moments when I got stuck on words, but I kept pushing through. I want to believe that with enough practice, I can improve. After my mirror session, I felt a small sense of accomplishment. It’s not much, but it’s something. Every small victory counts, right?\\n\\n--------------------------', metadata={'source': 'entry-data/data.txt'}),\n",
       " Document(page_content='Date:May 31, 2024 - 7:15 PM Content:School was tough today. We had a group discussion in English class, and I could feel the familiar knots forming in my stomach as my turn approached. I managed to say what I wanted to, but it wasn’t easy. I stumbled and stammered through my points, and while no one made fun of me, I still felt the weight of their silent judgments. After school, I met up with Jake, my best friend. He’s one of the few people who truly gets me. We hung out at the park, and I felt more relaxed talking to him. He never finishes my sentences for me, and he waits patiently while I get my words out. Friends like Jake are rare.\\n\\n--------------------------', metadata={'source': 'entry-data/data.txt'}),\n",
       " Document(page_content='Date:June 1, 2024 - 11:00 PM Content:It’s the weekend, and I spent most of the day at home. I decided to give the support group a try and joined an online meeting. It was strange at first, seeing others who share my struggle. But hearing their stories made me feel less alone. Some of them have been stuttering for years and have found ways to live with it, even thrive despite it. I spoke up towards the end, and though my voice trembled and my words caught, I felt a sense of solidarity. We all understood each other’s pain and triumphs. I’m glad I took the step to join. It gave me a bit of hope, something I’ve been needing.', metadata={'source': 'entry-data/data.txt'})]"
      ]
     },
     "execution_count": 22,
     "metadata": {},
     "output_type": "execute_result"
    }
   ],
   "source": [
    "\n",
    "text_splitter = RecursiveCharacterTextSplitter(chunk_size=1000, chunk_overlap=20)\n",
    "text_splitter.split_documents(docs)[:5]"
   ]
  },
  {
   "cell_type": "code",
   "execution_count": 23,
   "id": "87030d08",
   "metadata": {},
   "outputs": [
    {
     "data": {
      "text/plain": [
       "[Document(page_content=\"Date:May 28, 2024 - 9:00 PM Content:Today was another challenging day. I had a presentation in my history class, and as much as I practiced, the stuttering took over. It felt like every word was a mountain I had to climb. I saw the pity in my classmates' eyes, and even though they try to be supportive, it still stings. Mrs. Thompson, my teacher, was patient and encouraging, but I couldn't help but feel embarrassed. I wish I could speak fluently, just for once, and not have to worry about tripping over my words. I wonder if they know how much I rehearse at home, trying to get it right. Sometimes, it feels like my voice is my biggest enemy.\\n\\n--------------------------\", metadata={'source': 'entry-data/data.txt'}),\n",
       " Document(page_content='Date:May 29, 2024 - 10:30 PM Content:Today was slightly better. I had a therapy session with Dr. Miller. We worked on some breathing exercises and techniques to manage my speech blocks. It helps a bit, but it’s exhausting. We also talked about the anxiety that comes with speaking in public. Dr. Miller suggested joining a support group for people who stutter. I’m considering it, but the thought of speaking about my stutter to others who also struggle with it feels daunting. It’s a vicious cycle – my anxiety makes the stuttering worse, and the stuttering increases my anxiety. At least I have these sessions to help me cope.\\n\\n--------------------------', metadata={'source': 'entry-data/data.txt'}),\n",
       " Document(page_content='Date:May 30, 2024 - 8:45 PM Content:Today, I tried something new. Inspired by my therapy session, I decided to practice speaking in front of a mirror. It felt awkward at first, but after a while, I started to get used to my reflection and the sound of my voice. I read aloud from my favorite book, “Harry Potter.” There were still moments when I got stuck on words, but I kept pushing through. I want to believe that with enough practice, I can improve. After my mirror session, I felt a small sense of accomplishment. It’s not much, but it’s something. Every small victory counts, right?\\n\\n--------------------------', metadata={'source': 'entry-data/data.txt'}),\n",
       " Document(page_content='Date:May 31, 2024 - 7:15 PM Content:School was tough today. We had a group discussion in English class, and I could feel the familiar knots forming in my stomach as my turn approached. I managed to say what I wanted to, but it wasn’t easy. I stumbled and stammered through my points, and while no one made fun of me, I still felt the weight of their silent judgments. After school, I met up with Jake, my best friend. He’s one of the few people who truly gets me. We hung out at the park, and I felt more relaxed talking to him. He never finishes my sentences for me, and he waits patiently while I get my words out. Friends like Jake are rare.\\n\\n--------------------------', metadata={'source': 'entry-data/data.txt'}),\n",
       " Document(page_content='Date:June 1, 2024 - 11:00 PM Content:It’s the weekend, and I spent most of the day at home. I decided to give the support group a try and joined an online meeting. It was strange at first, seeing others who share my struggle. But hearing their stories made me feel less alone. Some of them have been stuttering for years and have found ways to live with it, even thrive despite it. I spoke up towards the end, and though my voice trembled and my words caught, I felt a sense of solidarity. We all understood each other’s pain and triumphs. I’m glad I took the step to join. It gave me a bit of hope, something I’ve been needing.', metadata={'source': 'entry-data/data.txt'})]"
      ]
     },
     "execution_count": 23,
     "metadata": {},
     "output_type": "execute_result"
    }
   ],
   "source": [
    "documents=text_splitter.split_documents(docs)\n",
    "documents"
   ]
  },
  {
   "cell_type": "code",
   "execution_count": 24,
   "id": "81f31fc6",
   "metadata": {},
   "outputs": [],
   "source": [
    "db=FAISS.from_documents(documents[:30],OllamaEmbeddings())"
   ]
  },
  {
   "cell_type": "code",
   "execution_count": 25,
   "id": "e6d72d7f",
   "metadata": {},
   "outputs": [
    {
     "data": {
      "text/plain": [
       "<langchain_community.vectorstores.faiss.FAISS at 0x326b9e7e0>"
      ]
     },
     "execution_count": 25,
     "metadata": {},
     "output_type": "execute_result"
    }
   ],
   "source": [
    "db"
   ]
  },
  {
   "cell_type": "code",
   "execution_count": 27,
   "id": "5bc74795",
   "metadata": {},
   "outputs": [
    {
     "data": {
      "text/plain": [
       "'Date:June 1, 2024 - 11:00 PM Content:It’s the weekend, and I spent most of the day at home. I decided to give the support group a try and joined an online meeting. It was strange at first, seeing others who share my struggle. But hearing their stories made me feel less alone. Some of them have been stuttering for years and have found ways to live with it, even thrive despite it. I spoke up towards the end, and though my voice trembled and my words caught, I felt a sense of solidarity. We all understood each other’s pain and triumphs. I’m glad I took the step to join. It gave me a bit of hope, something I’ve been needing.'"
      ]
     },
     "execution_count": 27,
     "metadata": {},
     "output_type": "execute_result"
    }
   ],
   "source": [
    "query=\"jake\"\n",
    "result=db.similarity_search(query)\n",
    "result[0].page_content"
   ]
  },
  {
   "cell_type": "code",
   "execution_count": 28,
   "id": "c85d8eab",
   "metadata": {},
   "outputs": [
    {
     "data": {
      "text/plain": [
       "Ollama()"
      ]
     },
     "execution_count": 28,
     "metadata": {},
     "output_type": "execute_result"
    }
   ],
   "source": [
    "llm=Ollama(model=\"llama2\")\n",
    "llm"
   ]
  },
  {
   "cell_type": "code",
   "execution_count": 33,
   "id": "98795ae0",
   "metadata": {},
   "outputs": [],
   "source": [
    "prompt = ChatPromptTemplate.from_template(\"\"\"\n",
    "Answer the following question based only on the provided context. \n",
    "Think step by step before providing a detailed answer. \n",
    "\n",
    "Humanize your answers.\n",
    "<context>\n",
    "{context}\n",
    "</context>\n",
    "Question: {input}\"\"\")\n",
    "\n",
    "#TODO: Write a better prompt for a sutiable context and response"
   ]
  },
  {
   "cell_type": "code",
   "execution_count": 34,
   "id": "0dc3af15",
   "metadata": {},
   "outputs": [
    {
     "data": {
      "text/plain": [
       "VectorStoreRetriever(tags=['FAISS', 'OllamaEmbeddings'], vectorstore=<langchain_community.vectorstores.faiss.FAISS object at 0x326b9e7e0>)"
      ]
     },
     "execution_count": 34,
     "metadata": {},
     "output_type": "execute_result"
    }
   ],
   "source": [
    "document_chain=create_stuff_documents_chain(llm,prompt)\n",
    "retriever=db.as_retriever()\n",
    "retriever"
   ]
  },
  {
   "cell_type": "code",
   "execution_count": 35,
   "id": "780b3b5a",
   "metadata": {},
   "outputs": [],
   "source": [
    "retrieval_chain=create_retrieval_chain(retriever,document_chain)"
   ]
  },
  {
   "cell_type": "code",
   "execution_count": 36,
   "id": "10c8de69",
   "metadata": {},
   "outputs": [
    {
     "name": "stdout",
     "output_type": "stream",
     "text": [
      "Wow, you've been through a tough week, haven't you? *empathetic nod* It takes a\n",
      "lot of courage to share your experiences with stuttering and anxiety in front of\n",
      "me, and I want you to know that I'm here for you, always. *supportive smile*\n",
      "Now, let's talk about your performance on May 29th. *inquiring gaze* From what\n",
      "you've shared, it seems like you had a bit of a breakthrough during your therapy\n",
      "session with Dr. Miller. You mentioned learning some breathing exercises and\n",
      "techniques to help manage your speech blocks, which is great! It's important to\n",
      "have strategies in place to cope with stuttering in different situations.\n",
      "*nodding*  You also mentioned practicing speaking in front of a mirror, which is\n",
      "a great way to become more comfortable with the sound of your own voice and to\n",
      "work on your fluency. It's impressive that you found the courage to try\n",
      "something new and challenging, even if it felt awkward at first. *smiling*\n",
      "Overall, it sounds like you're taking some great steps towards improving your\n",
      "communication skills and managing your stuttering. Keep up the good work!\n",
      "*encouraging smile* Remember, every small victory counts, and with time and\n",
      "practice, you can continue to make progress. Don't hesitate to reach out if you\n",
      "need any more support or advice. *supportive wave*\n"
     ]
    }
   ],
   "source": [
    "response=retrieval_chain.invoke({\"input\":\"\"})\n",
    "formatted_response = textwrap.fill(response['answer'], width=80)\n",
    "\n",
    "print(formatted_response)\n",
    "\n",
    "# paragraphs = response['answer'].strip().split(\"\\n\\n\")\n",
    "\n",
    "# # Print each paragraph separately\n",
    "# for paragraph in paragraphs:\n",
    "#     print(paragraph)\n",
    "#     print()"
   ]
  },
  {
   "cell_type": "code",
   "execution_count": null,
   "id": "2c6f66ee",
   "metadata": {},
   "outputs": [],
   "source": []
  }
 ],
 "metadata": {
  "kernelspec": {
   "display_name": "Python 3 (ipykernel)",
   "language": "python",
   "name": "python3"
  },
  "language_info": {
   "codemirror_mode": {
    "name": "ipython",
    "version": 3
   },
   "file_extension": ".py",
   "mimetype": "text/x-python",
   "name": "python",
   "nbconvert_exporter": "python",
   "pygments_lexer": "ipython3",
   "version": "3.12.3"
  }
 },
 "nbformat": 4,
 "nbformat_minor": 5
}
